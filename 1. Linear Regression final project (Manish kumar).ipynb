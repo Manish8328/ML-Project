{
 "cells": [
  {
   "cell_type": "markdown",
   "id": "d19791fe",
   "metadata": {},
   "source": [
    "# AnswerN0.1:\n",
    "\n",
    "My views about the problem statement is that The problem states that as a data analyst at TechWorks Consulting which is\n",
    "a consulting company that specializesin providing top-notch IT talent to a variety of businesses wants to hire some\n",
    "professionals in its own company based on the given data of the candidates like their college name, previous CTC, role,\n",
    "expected CTC and much more. We have been given the task of creating a machine learning modelwhich will help them in \n",
    "determining the salary of newly hired employees usingthe given data."
   ]
  },
  {
   "cell_type": "markdown",
   "id": "e5bcd2e4",
   "metadata": {},
   "source": [
    "# AnswerN0.2: My approach to solving this task\n",
    "\n",
    "First of all I will load the dataset and then replace the college field, city field into ML case Study dataset\n",
    "and create dummy variable for Role.\n",
    "And then, find out the outliers and missing values and clean the data further. After cleaned the data i will go for\n",
    "machine learning models to define my approach and then perform all the tasks required step by step\n",
    "to make the prediction, and then ultimately perform predictive analysis to predict the salary."
   ]
  },
  {
   "cell_type": "markdown",
   "id": "a1b3de2f",
   "metadata": {},
   "source": [
    "# AnswerN0.3:ML model options to perform this task\n",
    "\n",
    "ML models available with us are like \n",
    "Linear Regression, Ridge, Lasso (for countinuous numerical variables)\n",
    "Logistic Regression (LR), Linear Discriminant Ananlysis (LDA), K-Nearest Neighbour (KNN)\n",
    "Regression tree for countinuous categorical variables\n",
    "Classification tree for categorical variable \n",
    "are used to find where the accuracy of model is high and which model can be regard as best model"
   ]
  },
  {
   "cell_type": "markdown",
   "id": "acea090f",
   "metadata": {},
   "source": [
    "# AnswerN0.4: \n",
    "\n",
    "Model Bagging and Random Forest is the best of overall and the possible reason for that is Model Performance"
   ]
  },
  {
   "cell_type": "markdown",
   "id": "593e6ac0",
   "metadata": {},
   "source": [
    "# AnswerN0.5:\n",
    "Tune the hyperparameters: Random Forest models have several hyperparameters that can be tuned to improve their\n",
    "performance. Some of the important hyperparameters include the number of trees, the maximum depth of the trees, \n",
    "the minimum number of samples required to split an internal node, and the minimum number of samples required to be a\n",
    "leaf node. You can use techniques such as grid search or random search to find the optimal values of these \n",
    "hyperparameters.\n",
    "Feature selection: Random Forest models can be sensitive to irrelevant or redundant features.\n",
    "You can use feature selection techniques such as correlation analysis, mutual information, or recursive feature\n",
    "elimination to identify and remove such features from the dataset.\n",
    "Ensemble learning: You can combine multiple Random Forest models to form an ensemble. Ensemble learning can help\n",
    "improve the performance of the model by reducing overfitting and increasing the stability of the predictions\n",
    "Cross-validation: Cross-validation can help estimate the performance of the Random Forest model on unseen data. \n",
    "You can use techniques such as k-fold cross-validation or leave-one-out cross-validation to evaluate the performance\n",
    "of the model\n",
    "Data preprocessing: Preprocessing the data can help improve the performance of the Random Forest model.\n",
    "Some common preprocessing techniques include scaling the features, handling missing values, and encoding \n",
    "categorical variables\n",
    "# steps can be take to improve this selected model’s performance even further"
   ]
  },
  {
   "cell_type": "code",
   "execution_count": 6,
   "id": "a2ebfd37",
   "metadata": {},
   "outputs": [],
   "source": [
    "import pandas as pd\n",
    "import numpy as np\n",
    "import seaborn as sns"
   ]
  },
  {
   "cell_type": "code",
   "execution_count": 7,
   "id": "a3f3679a",
   "metadata": {},
   "outputs": [],
   "source": [
    "df = pd.read_csv('C:/Users/MANISH KUMAR/Desktop/Y Finance/ML project/ML case Study.csv',header=0)"
   ]
  },
  {
   "cell_type": "code",
   "execution_count": 8,
   "id": "685602f8",
   "metadata": {},
   "outputs": [],
   "source": [
    "df2 = pd.read_csv('C:/Users/MANISH KUMAR/Desktop/Y Finance/ML project/Colleges.csv',header=0)"
   ]
  },
  {
   "cell_type": "code",
   "execution_count": 9,
   "id": "860d68a6",
   "metadata": {},
   "outputs": [],
   "source": [
    "df3 = pd.read_csv('C:/Users/MANISH KUMAR/Desktop/Y Finance/ML project/cities.csv',header=0)"
   ]
  },
  {
   "cell_type": "code",
   "execution_count": 124,
   "id": "e4784557",
   "metadata": {},
   "outputs": [
    {
     "data": {
      "text/html": [
       "<div>\n",
       "<style scoped>\n",
       "    .dataframe tbody tr th:only-of-type {\n",
       "        vertical-align: middle;\n",
       "    }\n",
       "\n",
       "    .dataframe tbody tr th {\n",
       "        vertical-align: top;\n",
       "    }\n",
       "\n",
       "    .dataframe thead th {\n",
       "        text-align: right;\n",
       "    }\n",
       "</style>\n",
       "<table border=\"1\" class=\"dataframe\">\n",
       "  <thead>\n",
       "    <tr style=\"text-align: right;\">\n",
       "      <th></th>\n",
       "      <th>Tier 1</th>\n",
       "      <th>Tier 2</th>\n",
       "      <th>Tier 3</th>\n",
       "    </tr>\n",
       "  </thead>\n",
       "  <tbody>\n",
       "    <tr>\n",
       "      <th>0</th>\n",
       "      <td>IIT Bombay</td>\n",
       "      <td>IIIT Bangalore</td>\n",
       "      <td>Ramaiah Institute of Technology, Bengaluru</td>\n",
       "    </tr>\n",
       "    <tr>\n",
       "      <th>1</th>\n",
       "      <td>IIT Delhi</td>\n",
       "      <td>IIIT Delhi</td>\n",
       "      <td>TIET/Thapar University</td>\n",
       "    </tr>\n",
       "    <tr>\n",
       "      <th>2</th>\n",
       "      <td>IIT Kharagpur</td>\n",
       "      <td>IGDTUW</td>\n",
       "      <td>Manipal Main Campus</td>\n",
       "    </tr>\n",
       "    <tr>\n",
       "      <th>3</th>\n",
       "      <td>IIT Madras</td>\n",
       "      <td>NIT Calicut</td>\n",
       "      <td>VIT Vellore</td>\n",
       "    </tr>\n",
       "    <tr>\n",
       "      <th>4</th>\n",
       "      <td>IIT Kanpur</td>\n",
       "      <td>IIITM Gwalior</td>\n",
       "      <td>SRM Main Campus</td>\n",
       "    </tr>\n",
       "  </tbody>\n",
       "</table>\n",
       "</div>"
      ],
      "text/plain": [
       "          Tier 1          Tier 2                                      Tier 3\n",
       "0     IIT Bombay  IIIT Bangalore  Ramaiah Institute of Technology, Bengaluru\n",
       "1      IIT Delhi      IIIT Delhi                      TIET/Thapar University\n",
       "2  IIT Kharagpur          IGDTUW                         Manipal Main Campus\n",
       "3     IIT Madras     NIT Calicut                                 VIT Vellore\n",
       "4     IIT Kanpur   IIITM Gwalior                             SRM Main Campus"
      ]
     },
     "execution_count": 124,
     "metadata": {},
     "output_type": "execute_result"
    }
   ],
   "source": [
    "df2.head()"
   ]
  },
  {
   "cell_type": "code",
   "execution_count": 125,
   "id": "62ba802b",
   "metadata": {},
   "outputs": [
    {
     "data": {
      "text/html": [
       "<div>\n",
       "<style scoped>\n",
       "    .dataframe tbody tr th:only-of-type {\n",
       "        vertical-align: middle;\n",
       "    }\n",
       "\n",
       "    .dataframe tbody tr th {\n",
       "        vertical-align: top;\n",
       "    }\n",
       "\n",
       "    .dataframe thead th {\n",
       "        text-align: right;\n",
       "    }\n",
       "</style>\n",
       "<table border=\"1\" class=\"dataframe\">\n",
       "  <thead>\n",
       "    <tr style=\"text-align: right;\">\n",
       "      <th></th>\n",
       "      <th>Metrio City</th>\n",
       "      <th>non-metro cities</th>\n",
       "    </tr>\n",
       "  </thead>\n",
       "  <tbody>\n",
       "    <tr>\n",
       "      <th>0</th>\n",
       "      <td>Mumbai</td>\n",
       "      <td>Dehradun</td>\n",
       "    </tr>\n",
       "    <tr>\n",
       "      <th>1</th>\n",
       "      <td>Delhi</td>\n",
       "      <td>Durgapur</td>\n",
       "    </tr>\n",
       "    <tr>\n",
       "      <th>2</th>\n",
       "      <td>Kolkata</td>\n",
       "      <td>Asansol</td>\n",
       "    </tr>\n",
       "    <tr>\n",
       "      <th>3</th>\n",
       "      <td>Chennai</td>\n",
       "      <td>Rourkela</td>\n",
       "    </tr>\n",
       "    <tr>\n",
       "      <th>4</th>\n",
       "      <td>Bangalore</td>\n",
       "      <td>Kozhikode</td>\n",
       "    </tr>\n",
       "  </tbody>\n",
       "</table>\n",
       "</div>"
      ],
      "text/plain": [
       "  Metrio City non-metro cities\n",
       "0      Mumbai         Dehradun\n",
       "1       Delhi         Durgapur\n",
       "2     Kolkata          Asansol\n",
       "3     Chennai         Rourkela\n",
       "4   Bangalore        Kozhikode"
      ]
     },
     "execution_count": 125,
     "metadata": {},
     "output_type": "execute_result"
    }
   ],
   "source": [
    "df3.head()"
   ]
  },
  {
   "cell_type": "code",
   "execution_count": null,
   "id": "c91f66d8",
   "metadata": {},
   "outputs": [],
   "source": []
  },
  {
   "cell_type": "markdown",
   "id": "48caec81",
   "metadata": {},
   "source": [
    "# Checking for null values"
   ]
  },
  {
   "cell_type": "code",
   "execution_count": 10,
   "id": "2fefc394",
   "metadata": {},
   "outputs": [
    {
     "data": {
      "text/html": [
       "<div>\n",
       "<style scoped>\n",
       "    .dataframe tbody tr th:only-of-type {\n",
       "        vertical-align: middle;\n",
       "    }\n",
       "\n",
       "    .dataframe tbody tr th {\n",
       "        vertical-align: top;\n",
       "    }\n",
       "\n",
       "    .dataframe thead th {\n",
       "        text-align: right;\n",
       "    }\n",
       "</style>\n",
       "<table border=\"1\" class=\"dataframe\">\n",
       "  <thead>\n",
       "    <tr style=\"text-align: right;\">\n",
       "      <th></th>\n",
       "      <th>College</th>\n",
       "      <th>City</th>\n",
       "      <th>Role</th>\n",
       "      <th>Previous CTC</th>\n",
       "      <th>Previous job change</th>\n",
       "      <th>Graduation Marks</th>\n",
       "      <th>EXP (Month)</th>\n",
       "      <th>CTC</th>\n",
       "    </tr>\n",
       "  </thead>\n",
       "  <tbody>\n",
       "    <tr>\n",
       "      <th>0</th>\n",
       "      <td>SVNIT Surat</td>\n",
       "      <td>Asansol</td>\n",
       "      <td>Manager</td>\n",
       "      <td>55523.0</td>\n",
       "      <td>3</td>\n",
       "      <td>66</td>\n",
       "      <td>19</td>\n",
       "      <td>71406.58</td>\n",
       "    </tr>\n",
       "    <tr>\n",
       "      <th>1</th>\n",
       "      <td>NIT Bhopal</td>\n",
       "      <td>Ajmer</td>\n",
       "      <td>Executive</td>\n",
       "      <td>57081.0</td>\n",
       "      <td>1</td>\n",
       "      <td>84</td>\n",
       "      <td>18</td>\n",
       "      <td>68005.87</td>\n",
       "    </tr>\n",
       "    <tr>\n",
       "      <th>2</th>\n",
       "      <td>IEM, Kolkata</td>\n",
       "      <td>Rajpur Sonarpur</td>\n",
       "      <td>Executive</td>\n",
       "      <td>60347.0</td>\n",
       "      <td>2</td>\n",
       "      <td>52</td>\n",
       "      <td>28</td>\n",
       "      <td>76764.02</td>\n",
       "    </tr>\n",
       "    <tr>\n",
       "      <th>3</th>\n",
       "      <td>KIIT, Bhubaneswar</td>\n",
       "      <td>Ajmer</td>\n",
       "      <td>Executive</td>\n",
       "      <td>49010.0</td>\n",
       "      <td>2</td>\n",
       "      <td>81</td>\n",
       "      <td>33</td>\n",
       "      <td>82092.39</td>\n",
       "    </tr>\n",
       "    <tr>\n",
       "      <th>4</th>\n",
       "      <td>DTU</td>\n",
       "      <td>Durgapur</td>\n",
       "      <td>Executive</td>\n",
       "      <td>57879.0</td>\n",
       "      <td>4</td>\n",
       "      <td>74</td>\n",
       "      <td>32</td>\n",
       "      <td>73878.10</td>\n",
       "    </tr>\n",
       "  </tbody>\n",
       "</table>\n",
       "</div>"
      ],
      "text/plain": [
       "             College             City       Role  Previous CTC  \\\n",
       "0        SVNIT Surat          Asansol    Manager       55523.0   \n",
       "1         NIT Bhopal            Ajmer  Executive       57081.0   \n",
       "2       IEM, Kolkata  Rajpur Sonarpur  Executive       60347.0   \n",
       "3  KIIT, Bhubaneswar            Ajmer  Executive       49010.0   \n",
       "4                DTU         Durgapur  Executive       57879.0   \n",
       "\n",
       "   Previous job change  Graduation Marks  EXP (Month)       CTC  \n",
       "0                    3                66           19  71406.58  \n",
       "1                    1                84           18  68005.87  \n",
       "2                    2                52           28  76764.02  \n",
       "3                    2                81           33  82092.39  \n",
       "4                    4                74           32  73878.10  "
      ]
     },
     "execution_count": 10,
     "metadata": {},
     "output_type": "execute_result"
    }
   ],
   "source": [
    "df.head()"
   ]
  },
  {
   "cell_type": "code",
   "execution_count": 11,
   "id": "20003676",
   "metadata": {},
   "outputs": [
    {
     "name": "stdout",
     "output_type": "stream",
     "text": [
      "<class 'pandas.core.frame.DataFrame'>\n",
      "RangeIndex: 1589 entries, 0 to 1588\n",
      "Data columns (total 8 columns):\n",
      " #   Column               Non-Null Count  Dtype  \n",
      "---  ------               --------------  -----  \n",
      " 0   College              1589 non-null   object \n",
      " 1   City                 1589 non-null   object \n",
      " 2   Role                 1589 non-null   object \n",
      " 3   Previous CTC         1589 non-null   float64\n",
      " 4   Previous job change  1589 non-null   int64  \n",
      " 5   Graduation Marks     1589 non-null   int64  \n",
      " 6   EXP (Month)          1589 non-null   int64  \n",
      " 7   CTC                  1589 non-null   float64\n",
      "dtypes: float64(2), int64(3), object(3)\n",
      "memory usage: 99.4+ KB\n"
     ]
    }
   ],
   "source": [
    "df.info()"
   ]
  },
  {
   "cell_type": "code",
   "execution_count": 12,
   "id": "fac6b9fd",
   "metadata": {},
   "outputs": [],
   "source": [
    "# df have no null values"
   ]
  },
  {
   "cell_type": "code",
   "execution_count": 13,
   "id": "cb5bfe73",
   "metadata": {},
   "outputs": [
    {
     "name": "stdout",
     "output_type": "stream",
     "text": [
      "<class 'pandas.core.frame.DataFrame'>\n",
      "RangeIndex: 28 entries, 0 to 27\n",
      "Data columns (total 3 columns):\n",
      " #   Column  Non-Null Count  Dtype \n",
      "---  ------  --------------  ----- \n",
      " 0   Tier 1  22 non-null     object\n",
      " 1   Tier 2  28 non-null     object\n",
      " 2   Tier 3  19 non-null     object\n",
      "dtypes: object(3)\n",
      "memory usage: 800.0+ bytes\n"
     ]
    }
   ],
   "source": [
    "df2.info()"
   ]
  },
  {
   "cell_type": "code",
   "execution_count": 14,
   "id": "5a0da4b7",
   "metadata": {},
   "outputs": [],
   "source": [
    "# Creating lists using df2\n",
    "\n",
    "Tier1=df2[\"Tier 1\"].tolist()\n",
    "Tier2=df2[\"Tier 2\"].tolist()\n",
    "Tier3=df2[\"Tier 3\"].tolist()"
   ]
  },
  {
   "cell_type": "code",
   "execution_count": 15,
   "id": "09bc93ed",
   "metadata": {},
   "outputs": [
    {
     "data": {
      "text/html": [
       "<div>\n",
       "<style scoped>\n",
       "    .dataframe tbody tr th:only-of-type {\n",
       "        vertical-align: middle;\n",
       "    }\n",
       "\n",
       "    .dataframe tbody tr th {\n",
       "        vertical-align: top;\n",
       "    }\n",
       "\n",
       "    .dataframe thead th {\n",
       "        text-align: right;\n",
       "    }\n",
       "</style>\n",
       "<table border=\"1\" class=\"dataframe\">\n",
       "  <thead>\n",
       "    <tr style=\"text-align: right;\">\n",
       "      <th></th>\n",
       "      <th>Tier 1</th>\n",
       "      <th>Tier 2</th>\n",
       "      <th>Tier 3</th>\n",
       "    </tr>\n",
       "  </thead>\n",
       "  <tbody>\n",
       "    <tr>\n",
       "      <th>0</th>\n",
       "      <td>IIT Bombay</td>\n",
       "      <td>IIIT Bangalore</td>\n",
       "      <td>Ramaiah Institute of Technology, Bengaluru</td>\n",
       "    </tr>\n",
       "    <tr>\n",
       "      <th>1</th>\n",
       "      <td>IIT Delhi</td>\n",
       "      <td>IIIT Delhi</td>\n",
       "      <td>TIET/Thapar University</td>\n",
       "    </tr>\n",
       "    <tr>\n",
       "      <th>2</th>\n",
       "      <td>IIT Kharagpur</td>\n",
       "      <td>IGDTUW</td>\n",
       "      <td>Manipal Main Campus</td>\n",
       "    </tr>\n",
       "    <tr>\n",
       "      <th>3</th>\n",
       "      <td>IIT Madras</td>\n",
       "      <td>NIT Calicut</td>\n",
       "      <td>VIT Vellore</td>\n",
       "    </tr>\n",
       "    <tr>\n",
       "      <th>4</th>\n",
       "      <td>IIT Kanpur</td>\n",
       "      <td>IIITM Gwalior</td>\n",
       "      <td>SRM Main Campus</td>\n",
       "    </tr>\n",
       "    <tr>\n",
       "      <th>5</th>\n",
       "      <td>IIT Roorkee</td>\n",
       "      <td>IIIT Lucknow</td>\n",
       "      <td>KIIT, Bhubaneswar</td>\n",
       "    </tr>\n",
       "    <tr>\n",
       "      <th>6</th>\n",
       "      <td>IIT Guwahati</td>\n",
       "      <td>MNNIT Allahabad</td>\n",
       "      <td>Amity University</td>\n",
       "    </tr>\n",
       "    <tr>\n",
       "      <th>7</th>\n",
       "      <td>IIIT Hyderabad</td>\n",
       "      <td>Punjab Engineering College</td>\n",
       "      <td>BMS College, Bangalore</td>\n",
       "    </tr>\n",
       "    <tr>\n",
       "      <th>8</th>\n",
       "      <td>BITS Pilani (Pilani Campus)</td>\n",
       "      <td>DAIICT</td>\n",
       "      <td>PES University, Bangalore</td>\n",
       "    </tr>\n",
       "    <tr>\n",
       "      <th>9</th>\n",
       "      <td>IIT Indore</td>\n",
       "      <td>MNIT Jaipur</td>\n",
       "      <td>USIT, Delhi</td>\n",
       "    </tr>\n",
       "    <tr>\n",
       "      <th>10</th>\n",
       "      <td>IIT Ropar</td>\n",
       "      <td>NIT Durgapur</td>\n",
       "      <td>MAIT, Delhi</td>\n",
       "    </tr>\n",
       "    <tr>\n",
       "      <th>11</th>\n",
       "      <td>IIT BHU (Varanasi)</td>\n",
       "      <td>VNIT Nagpur</td>\n",
       "      <td>MSIT, Delhi</td>\n",
       "    </tr>\n",
       "    <tr>\n",
       "      <th>12</th>\n",
       "      <td>IIT ISM Dhanbad</td>\n",
       "      <td>LNMIIT</td>\n",
       "      <td>Dayanand College of Engineering, Bangalore</td>\n",
       "    </tr>\n",
       "    <tr>\n",
       "      <th>13</th>\n",
       "      <td>DTU</td>\n",
       "      <td>BIT Mesra</td>\n",
       "      <td>Heritage Institute of Technology, Kolkata</td>\n",
       "    </tr>\n",
       "    <tr>\n",
       "      <th>14</th>\n",
       "      <td>NSUT Delhi (NSIT)</td>\n",
       "      <td>SVNIT Surat</td>\n",
       "      <td>IEM, Kolkata</td>\n",
       "    </tr>\n",
       "    <tr>\n",
       "      <th>15</th>\n",
       "      <td>NIT Tiruchipally (Trichy)</td>\n",
       "      <td>NIT Jalandhar</td>\n",
       "      <td>Techno India, Kolkata</td>\n",
       "    </tr>\n",
       "    <tr>\n",
       "      <th>16</th>\n",
       "      <td>NIT Warangal</td>\n",
       "      <td>NIT Jamshedpur</td>\n",
       "      <td>Jaypee, Noida</td>\n",
       "    </tr>\n",
       "    <tr>\n",
       "      <th>17</th>\n",
       "      <td>NIT Surathkal (Karnataka)</td>\n",
       "      <td>NIT Kurukshetra</td>\n",
       "      <td>Amrita University, Coimbatore</td>\n",
       "    </tr>\n",
       "    <tr>\n",
       "      <th>18</th>\n",
       "      <td>Jadavpur University</td>\n",
       "      <td>NIT Patna</td>\n",
       "      <td>Cummins College of Engineering for Women, Pune</td>\n",
       "    </tr>\n",
       "  </tbody>\n",
       "</table>\n",
       "</div>"
      ],
      "text/plain": [
       "                         Tier 1                      Tier 2  \\\n",
       "0                    IIT Bombay              IIIT Bangalore   \n",
       "1                     IIT Delhi                  IIIT Delhi   \n",
       "2                 IIT Kharagpur                      IGDTUW   \n",
       "3                    IIT Madras                 NIT Calicut   \n",
       "4                    IIT Kanpur               IIITM Gwalior   \n",
       "5                   IIT Roorkee                IIIT Lucknow   \n",
       "6                  IIT Guwahati             MNNIT Allahabad   \n",
       "7                IIIT Hyderabad  Punjab Engineering College   \n",
       "8   BITS Pilani (Pilani Campus)                      DAIICT   \n",
       "9                    IIT Indore                 MNIT Jaipur   \n",
       "10                    IIT Ropar                NIT Durgapur   \n",
       "11           IIT BHU (Varanasi)                 VNIT Nagpur   \n",
       "12              IIT ISM Dhanbad                      LNMIIT   \n",
       "13                          DTU                   BIT Mesra   \n",
       "14            NSUT Delhi (NSIT)                 SVNIT Surat   \n",
       "15    NIT Tiruchipally (Trichy)               NIT Jalandhar   \n",
       "16                 NIT Warangal              NIT Jamshedpur   \n",
       "17    NIT Surathkal (Karnataka)             NIT Kurukshetra   \n",
       "18          Jadavpur University                   NIT Patna   \n",
       "\n",
       "                                            Tier 3  \n",
       "0       Ramaiah Institute of Technology, Bengaluru  \n",
       "1                           TIET/Thapar University  \n",
       "2                              Manipal Main Campus  \n",
       "3                                      VIT Vellore  \n",
       "4                                  SRM Main Campus  \n",
       "5                                KIIT, Bhubaneswar  \n",
       "6                                 Amity University  \n",
       "7                           BMS College, Bangalore  \n",
       "8                        PES University, Bangalore  \n",
       "9                                      USIT, Delhi  \n",
       "10                                     MAIT, Delhi  \n",
       "11                                     MSIT, Delhi  \n",
       "12      Dayanand College of Engineering, Bangalore  \n",
       "13       Heritage Institute of Technology, Kolkata  \n",
       "14                                    IEM, Kolkata  \n",
       "15                           Techno India, Kolkata  \n",
       "16                                   Jaypee, Noida  \n",
       "17                   Amrita University, Coimbatore  \n",
       "18  Cummins College of Engineering for Women, Pune  "
      ]
     },
     "execution_count": 15,
     "metadata": {},
     "output_type": "execute_result"
    }
   ],
   "source": [
    "# Removing rows containing null values\n",
    "df2.dropna()"
   ]
  },
  {
   "cell_type": "markdown",
   "id": "c328a201",
   "metadata": {},
   "source": [
    "# Replacing college values with 1,2,3 according to Tiers in main dataset"
   ]
  },
  {
   "cell_type": "code",
   "execution_count": 16,
   "id": "bb7c6bf8",
   "metadata": {},
   "outputs": [],
   "source": [
    "for item in df.College:\n",
    "    if item in Tier1:\n",
    "        df[\"College\"].replace(item, 1 ,inplace=True)\n",
    "    elif item in Tier2:\n",
    "        df[\"College\"].replace(item, 2 ,inplace=True)\n",
    "    elif item in Tier3:\n",
    "        df[\"College\"].replace(item, 3 ,inplace=True)"
   ]
  },
  {
   "cell_type": "markdown",
   "id": "aab15b13",
   "metadata": {},
   "source": [
    "# Replacing City values with 1,2 according to Metro and non_metro in main dataset"
   ]
  },
  {
   "cell_type": "code",
   "execution_count": 17,
   "id": "d8dfff17",
   "metadata": {},
   "outputs": [],
   "source": [
    "# Creating lists using df3\n",
    "\n",
    "Metro_city=df3[\"Metrio City\"].tolist()\n",
    "Non_Metro_city=df3[\"non-metro cities\"].tolist()"
   ]
  },
  {
   "cell_type": "code",
   "execution_count": 18,
   "id": "3cc78b0c",
   "metadata": {},
   "outputs": [
    {
     "data": {
      "text/html": [
       "<div>\n",
       "<style scoped>\n",
       "    .dataframe tbody tr th:only-of-type {\n",
       "        vertical-align: middle;\n",
       "    }\n",
       "\n",
       "    .dataframe tbody tr th {\n",
       "        vertical-align: top;\n",
       "    }\n",
       "\n",
       "    .dataframe thead th {\n",
       "        text-align: right;\n",
       "    }\n",
       "</style>\n",
       "<table border=\"1\" class=\"dataframe\">\n",
       "  <thead>\n",
       "    <tr style=\"text-align: right;\">\n",
       "      <th></th>\n",
       "      <th>Metrio City</th>\n",
       "      <th>non-metro cities</th>\n",
       "    </tr>\n",
       "  </thead>\n",
       "  <tbody>\n",
       "    <tr>\n",
       "      <th>0</th>\n",
       "      <td>Mumbai</td>\n",
       "      <td>Dehradun</td>\n",
       "    </tr>\n",
       "    <tr>\n",
       "      <th>1</th>\n",
       "      <td>Delhi</td>\n",
       "      <td>Durgapur</td>\n",
       "    </tr>\n",
       "    <tr>\n",
       "      <th>2</th>\n",
       "      <td>Kolkata</td>\n",
       "      <td>Asansol</td>\n",
       "    </tr>\n",
       "    <tr>\n",
       "      <th>3</th>\n",
       "      <td>Chennai</td>\n",
       "      <td>Rourkela</td>\n",
       "    </tr>\n",
       "    <tr>\n",
       "      <th>4</th>\n",
       "      <td>Bangalore</td>\n",
       "      <td>Kozhikode</td>\n",
       "    </tr>\n",
       "    <tr>\n",
       "      <th>5</th>\n",
       "      <td>Hyderabad</td>\n",
       "      <td>Rajpur Sonarpur</td>\n",
       "    </tr>\n",
       "    <tr>\n",
       "      <th>6</th>\n",
       "      <td>Ahmedabad</td>\n",
       "      <td>Kolhapur</td>\n",
       "    </tr>\n",
       "    <tr>\n",
       "      <th>7</th>\n",
       "      <td>Pune</td>\n",
       "      <td>Ajmer</td>\n",
       "    </tr>\n",
       "  </tbody>\n",
       "</table>\n",
       "</div>"
      ],
      "text/plain": [
       "  Metrio City non-metro cities\n",
       "0      Mumbai         Dehradun\n",
       "1       Delhi         Durgapur\n",
       "2     Kolkata          Asansol\n",
       "3     Chennai         Rourkela\n",
       "4   Bangalore        Kozhikode\n",
       "5   Hyderabad  Rajpur Sonarpur\n",
       "6   Ahmedabad         Kolhapur\n",
       "7        Pune            Ajmer"
      ]
     },
     "execution_count": 18,
     "metadata": {},
     "output_type": "execute_result"
    }
   ],
   "source": [
    "# Removing rows containing null values\n",
    "df3.dropna()"
   ]
  },
  {
   "cell_type": "code",
   "execution_count": 19,
   "id": "a742bbca",
   "metadata": {},
   "outputs": [],
   "source": [
    " for item in df.City:\n",
    "    if item in Metro_city:\n",
    "        df[\"City\"].replace(item, 1 ,inplace=True)\n",
    "    elif item in Non_Metro_city:\n",
    "        df[\"City\"].replace(item,0,inplace=True)"
   ]
  },
  {
   "cell_type": "code",
   "execution_count": 20,
   "id": "cbc2a2df",
   "metadata": {},
   "outputs": [],
   "source": [
    "df=pd.get_dummies(df)"
   ]
  },
  {
   "cell_type": "code",
   "execution_count": 21,
   "id": "ec661b7f",
   "metadata": {},
   "outputs": [],
   "source": [
    "del df['Role_Executive']"
   ]
  },
  {
   "cell_type": "code",
   "execution_count": 22,
   "id": "f185faef",
   "metadata": {},
   "outputs": [
    {
     "data": {
      "text/html": [
       "<div>\n",
       "<style scoped>\n",
       "    .dataframe tbody tr th:only-of-type {\n",
       "        vertical-align: middle;\n",
       "    }\n",
       "\n",
       "    .dataframe tbody tr th {\n",
       "        vertical-align: top;\n",
       "    }\n",
       "\n",
       "    .dataframe thead th {\n",
       "        text-align: right;\n",
       "    }\n",
       "</style>\n",
       "<table border=\"1\" class=\"dataframe\">\n",
       "  <thead>\n",
       "    <tr style=\"text-align: right;\">\n",
       "      <th></th>\n",
       "      <th>College</th>\n",
       "      <th>City</th>\n",
       "      <th>Previous CTC</th>\n",
       "      <th>Previous job change</th>\n",
       "      <th>Graduation Marks</th>\n",
       "      <th>EXP (Month)</th>\n",
       "      <th>CTC</th>\n",
       "      <th>Role_Manager</th>\n",
       "    </tr>\n",
       "  </thead>\n",
       "  <tbody>\n",
       "    <tr>\n",
       "      <th>0</th>\n",
       "      <td>2</td>\n",
       "      <td>0</td>\n",
       "      <td>55523.0</td>\n",
       "      <td>3</td>\n",
       "      <td>66</td>\n",
       "      <td>19</td>\n",
       "      <td>71406.58</td>\n",
       "      <td>1</td>\n",
       "    </tr>\n",
       "    <tr>\n",
       "      <th>1</th>\n",
       "      <td>2</td>\n",
       "      <td>0</td>\n",
       "      <td>57081.0</td>\n",
       "      <td>1</td>\n",
       "      <td>84</td>\n",
       "      <td>18</td>\n",
       "      <td>68005.87</td>\n",
       "      <td>0</td>\n",
       "    </tr>\n",
       "    <tr>\n",
       "      <th>2</th>\n",
       "      <td>3</td>\n",
       "      <td>0</td>\n",
       "      <td>60347.0</td>\n",
       "      <td>2</td>\n",
       "      <td>52</td>\n",
       "      <td>28</td>\n",
       "      <td>76764.02</td>\n",
       "      <td>0</td>\n",
       "    </tr>\n",
       "    <tr>\n",
       "      <th>3</th>\n",
       "      <td>3</td>\n",
       "      <td>0</td>\n",
       "      <td>49010.0</td>\n",
       "      <td>2</td>\n",
       "      <td>81</td>\n",
       "      <td>33</td>\n",
       "      <td>82092.39</td>\n",
       "      <td>0</td>\n",
       "    </tr>\n",
       "    <tr>\n",
       "      <th>4</th>\n",
       "      <td>1</td>\n",
       "      <td>0</td>\n",
       "      <td>57879.0</td>\n",
       "      <td>4</td>\n",
       "      <td>74</td>\n",
       "      <td>32</td>\n",
       "      <td>73878.10</td>\n",
       "      <td>0</td>\n",
       "    </tr>\n",
       "  </tbody>\n",
       "</table>\n",
       "</div>"
      ],
      "text/plain": [
       "   College  City  Previous CTC  Previous job change  Graduation Marks  \\\n",
       "0        2     0       55523.0                    3                66   \n",
       "1        2     0       57081.0                    1                84   \n",
       "2        3     0       60347.0                    2                52   \n",
       "3        3     0       49010.0                    2                81   \n",
       "4        1     0       57879.0                    4                74   \n",
       "\n",
       "   EXP (Month)       CTC  Role_Manager  \n",
       "0           19  71406.58             1  \n",
       "1           18  68005.87             0  \n",
       "2           28  76764.02             0  \n",
       "3           33  82092.39             0  \n",
       "4           32  73878.10             0  "
      ]
     },
     "execution_count": 22,
     "metadata": {},
     "output_type": "execute_result"
    }
   ],
   "source": [
    "df.head()"
   ]
  },
  {
   "cell_type": "code",
   "execution_count": 23,
   "id": "9fdf6f9e",
   "metadata": {},
   "outputs": [
    {
     "name": "stdout",
     "output_type": "stream",
     "text": [
      "<class 'pandas.core.frame.DataFrame'>\n",
      "RangeIndex: 1589 entries, 0 to 1588\n",
      "Data columns (total 8 columns):\n",
      " #   Column               Non-Null Count  Dtype  \n",
      "---  ------               --------------  -----  \n",
      " 0   College              1589 non-null   int64  \n",
      " 1   City                 1589 non-null   int64  \n",
      " 2   Previous CTC         1589 non-null   float64\n",
      " 3   Previous job change  1589 non-null   int64  \n",
      " 4   Graduation Marks     1589 non-null   int64  \n",
      " 5   EXP (Month)          1589 non-null   int64  \n",
      " 6   CTC                  1589 non-null   float64\n",
      " 7   Role_Manager         1589 non-null   uint8  \n",
      "dtypes: float64(2), int64(5), uint8(1)\n",
      "memory usage: 88.6 KB\n"
     ]
    }
   ],
   "source": [
    "# Checking for null values\n",
    "\n",
    "df.info()"
   ]
  },
  {
   "cell_type": "code",
   "execution_count": 24,
   "id": "b3374074",
   "metadata": {},
   "outputs": [
    {
     "data": {
      "text/html": [
       "<div>\n",
       "<style scoped>\n",
       "    .dataframe tbody tr th:only-of-type {\n",
       "        vertical-align: middle;\n",
       "    }\n",
       "\n",
       "    .dataframe tbody tr th {\n",
       "        vertical-align: top;\n",
       "    }\n",
       "\n",
       "    .dataframe thead th {\n",
       "        text-align: right;\n",
       "    }\n",
       "</style>\n",
       "<table border=\"1\" class=\"dataframe\">\n",
       "  <thead>\n",
       "    <tr style=\"text-align: right;\">\n",
       "      <th></th>\n",
       "      <th>College</th>\n",
       "      <th>City</th>\n",
       "      <th>Previous CTC</th>\n",
       "      <th>Previous job change</th>\n",
       "      <th>Graduation Marks</th>\n",
       "      <th>EXP (Month)</th>\n",
       "      <th>CTC</th>\n",
       "      <th>Role_Manager</th>\n",
       "    </tr>\n",
       "  </thead>\n",
       "  <tbody>\n",
       "    <tr>\n",
       "      <th>count</th>\n",
       "      <td>1589.000000</td>\n",
       "      <td>1589.000000</td>\n",
       "      <td>1589.000000</td>\n",
       "      <td>1589.000000</td>\n",
       "      <td>1589.000000</td>\n",
       "      <td>1589.000000</td>\n",
       "      <td>1589.000000</td>\n",
       "      <td>1589.000000</td>\n",
       "    </tr>\n",
       "    <tr>\n",
       "      <th>mean</th>\n",
       "      <td>1.975456</td>\n",
       "      <td>0.514160</td>\n",
       "      <td>55518.453744</td>\n",
       "      <td>2.528634</td>\n",
       "      <td>59.855255</td>\n",
       "      <td>39.044682</td>\n",
       "      <td>75353.278798</td>\n",
       "      <td>0.206419</td>\n",
       "    </tr>\n",
       "    <tr>\n",
       "      <th>std</th>\n",
       "      <td>0.838330</td>\n",
       "      <td>0.499957</td>\n",
       "      <td>6655.218445</td>\n",
       "      <td>1.123918</td>\n",
       "      <td>14.935139</td>\n",
       "      <td>14.108875</td>\n",
       "      <td>12587.288237</td>\n",
       "      <td>0.404862</td>\n",
       "    </tr>\n",
       "    <tr>\n",
       "      <th>min</th>\n",
       "      <td>1.000000</td>\n",
       "      <td>0.000000</td>\n",
       "      <td>36990.000000</td>\n",
       "      <td>1.000000</td>\n",
       "      <td>35.000000</td>\n",
       "      <td>18.000000</td>\n",
       "      <td>53020.320000</td>\n",
       "      <td>0.000000</td>\n",
       "    </tr>\n",
       "    <tr>\n",
       "      <th>25%</th>\n",
       "      <td>1.000000</td>\n",
       "      <td>0.000000</td>\n",
       "      <td>50518.000000</td>\n",
       "      <td>2.000000</td>\n",
       "      <td>46.000000</td>\n",
       "      <td>26.000000</td>\n",
       "      <td>66902.350000</td>\n",
       "      <td>0.000000</td>\n",
       "    </tr>\n",
       "    <tr>\n",
       "      <th>50%</th>\n",
       "      <td>2.000000</td>\n",
       "      <td>1.000000</td>\n",
       "      <td>55291.000000</td>\n",
       "      <td>3.000000</td>\n",
       "      <td>60.000000</td>\n",
       "      <td>39.000000</td>\n",
       "      <td>73028.670000</td>\n",
       "      <td>0.000000</td>\n",
       "    </tr>\n",
       "    <tr>\n",
       "      <th>75%</th>\n",
       "      <td>3.000000</td>\n",
       "      <td>1.000000</td>\n",
       "      <td>60109.000000</td>\n",
       "      <td>4.000000</td>\n",
       "      <td>73.000000</td>\n",
       "      <td>51.000000</td>\n",
       "      <td>80588.670000</td>\n",
       "      <td>0.000000</td>\n",
       "    </tr>\n",
       "    <tr>\n",
       "      <th>max</th>\n",
       "      <td>3.000000</td>\n",
       "      <td>1.000000</td>\n",
       "      <td>77911.000000</td>\n",
       "      <td>4.000000</td>\n",
       "      <td>85.000000</td>\n",
       "      <td>64.000000</td>\n",
       "      <td>123416.990000</td>\n",
       "      <td>1.000000</td>\n",
       "    </tr>\n",
       "  </tbody>\n",
       "</table>\n",
       "</div>"
      ],
      "text/plain": [
       "           College         City  Previous CTC  Previous job change  \\\n",
       "count  1589.000000  1589.000000   1589.000000          1589.000000   \n",
       "mean      1.975456     0.514160  55518.453744             2.528634   \n",
       "std       0.838330     0.499957   6655.218445             1.123918   \n",
       "min       1.000000     0.000000  36990.000000             1.000000   \n",
       "25%       1.000000     0.000000  50518.000000             2.000000   \n",
       "50%       2.000000     1.000000  55291.000000             3.000000   \n",
       "75%       3.000000     1.000000  60109.000000             4.000000   \n",
       "max       3.000000     1.000000  77911.000000             4.000000   \n",
       "\n",
       "       Graduation Marks  EXP (Month)            CTC  Role_Manager  \n",
       "count       1589.000000  1589.000000    1589.000000   1589.000000  \n",
       "mean          59.855255    39.044682   75353.278798      0.206419  \n",
       "std           14.935139    14.108875   12587.288237      0.404862  \n",
       "min           35.000000    18.000000   53020.320000      0.000000  \n",
       "25%           46.000000    26.000000   66902.350000      0.000000  \n",
       "50%           60.000000    39.000000   73028.670000      0.000000  \n",
       "75%           73.000000    51.000000   80588.670000      0.000000  \n",
       "max           85.000000    64.000000  123416.990000      1.000000  "
      ]
     },
     "execution_count": 24,
     "metadata": {},
     "output_type": "execute_result"
    }
   ],
   "source": [
    "df.describe()"
   ]
  },
  {
   "cell_type": "markdown",
   "id": "04986eb8",
   "metadata": {},
   "source": [
    "# Checking outlayers in the dataset"
   ]
  },
  {
   "cell_type": "code",
   "execution_count": 25,
   "id": "6b146772",
   "metadata": {},
   "outputs": [
    {
     "data": {
      "text/plain": [
       "<seaborn.axisgrid.JointGrid at 0x1c7556a1130>"
      ]
     },
     "execution_count": 25,
     "metadata": {},
     "output_type": "execute_result"
    },
    {
     "data": {
      "image/png": "[encoded data removed]",
      "text/plain": [
       "<Figure size 600x600 with 3 Axes>"
      ]
     },
     "metadata": {},
     "output_type": "display_data"
    }
   ],
   "source": [
    "sns.jointplot(x= 'Previous CTC', y= 'CTC' , data= df)"
   ]
  },
  {
   "cell_type": "code",
   "execution_count": 26,
   "id": "93d6445c",
   "metadata": {},
   "outputs": [
    {
     "data": {
      "text/plain": [
       "<seaborn.axisgrid.JointGrid at 0x1c7564b3a60>"
      ]
     },
     "execution_count": 26,
     "metadata": {},
     "output_type": "execute_result"
    },
    {
     "data": {
      "image/png": "[encoded data removed]",
      "text/plain": [
       "<Figure size 600x600 with 3 Axes>"
      ]
     },
     "metadata": {},
     "output_type": "display_data"
    }
   ],
   "source": [
    "sns.jointplot(x= 'Graduation Marks', y= 'CTC' , data= df)"
   ]
  },
  {
   "cell_type": "code",
   "execution_count": 27,
   "id": "706ee8c4",
   "metadata": {},
   "outputs": [
    {
     "data": {
      "text/plain": [
       "<seaborn.axisgrid.JointGrid at 0x1c7563ebe80>"
      ]
     },
     "execution_count": 27,
     "metadata": {},
     "output_type": "execute_result"
    },
    {
     "data": {
      "image/png": "[encoded data removed]",
      "text/plain": [
       "<Figure size 600x600 with 3 Axes>"
      ]
     },
     "metadata": {},
     "output_type": "display_data"
    }
   ],
   "source": [
    "sns.jointplot(x= 'EXP (Month)', y= 'CTC' , data= df)"
   ]
  },
  {
   "cell_type": "code",
   "execution_count": 28,
   "id": "8bc8de1a",
   "metadata": {},
   "outputs": [
    {
     "data": {
      "text/plain": [
       "<AxesSubplot:ylabel='EXP (Month)'>"
      ]
     },
     "execution_count": 28,
     "metadata": {},
     "output_type": "execute_result"
    },
    {
     "data": {
      "image/png": "[encoded data removed]",
      "text/plain": [
       "<Figure size 640x480 with 1 Axes>"
      ]
     },
     "metadata": {},
     "output_type": "display_data"
    }
   ],
   "source": [
    "sns.boxplot(y=\"EXP (Month)\",  data=df)"
   ]
  },
  {
   "cell_type": "code",
   "execution_count": 29,
   "id": "df656972",
   "metadata": {},
   "outputs": [
    {
     "data": {
      "text/plain": [
       "<AxesSubplot:ylabel='Graduation Marks'>"
      ]
     },
     "execution_count": 29,
     "metadata": {},
     "output_type": "execute_result"
    },
    {
     "data": {
      "image/png": "[encoded data removed]",
      "text/plain": [
       "<Figure size 640x480 with 1 Axes>"
      ]
     },
     "metadata": {},
     "output_type": "display_data"
    }
   ],
   "source": [
    "sns.boxplot(y=\"Graduation Marks\",  data=df)"
   ]
  },
  {
   "cell_type": "code",
   "execution_count": 30,
   "id": "d2cbbf22",
   "metadata": {},
   "outputs": [
    {
     "data": {
      "text/plain": [
       "<AxesSubplot:ylabel='Previous CTC'>"
      ]
     },
     "execution_count": 30,
     "metadata": {},
     "output_type": "execute_result"
    },
    {
     "data": {
      "image/png": "[encoded data removed]",
      "text/plain": [
       "<Figure size 640x480 with 1 Axes>"
      ]
     },
     "metadata": {},
     "output_type": "display_data"
    }
   ],
   "source": [
    "sns.boxplot(y=\"Previous CTC\",  data=df)"
   ]
  },
  {
   "cell_type": "code",
   "execution_count": 31,
   "id": "f1eca392",
   "metadata": {},
   "outputs": [
    {
     "data": {
      "text/plain": [
       "<AxesSubplot:ylabel='CTC'>"
      ]
     },
     "execution_count": 31,
     "metadata": {},
     "output_type": "execute_result"
    },
    {
     "data": {
      "image/png": "[encoded data removed]",
      "text/plain": [
       "<Figure size 640x480 with 1 Axes>"
      ]
     },
     "metadata": {},
     "output_type": "display_data"
    }
   ],
   "source": [
    "sns.boxplot(y=\"CTC\",  data=df)"
   ]
  },
  {
   "cell_type": "code",
   "execution_count": 32,
   "id": "e9d60419",
   "metadata": {},
   "outputs": [
    {
     "data": {
      "text/plain": [
       "<AxesSubplot:xlabel='Previous job change', ylabel='count'>"
      ]
     },
     "execution_count": 32,
     "metadata": {},
     "output_type": "execute_result"
    },
    {
     "data": {
      "image/png": "[encoded data removed]",
      "text/plain": [
       "<Figure size 640x480 with 1 Axes>"
      ]
     },
     "metadata": {},
     "output_type": "display_data"
    }
   ],
   "source": [
    "sns.countplot(x=\"Previous job change\",  data=df)"
   ]
  },
  {
   "cell_type": "code",
   "execution_count": 33,
   "id": "327065b0",
   "metadata": {},
   "outputs": [
    {
     "data": {
      "text/plain": [
       "<AxesSubplot:xlabel='Role_Manager', ylabel='count'>"
      ]
     },
     "execution_count": 33,
     "metadata": {},
     "output_type": "execute_result"
    },
    {
     "data": {
      "image/png": "[encoded data removed]",
      "text/plain": [
       "<Figure size 640x480 with 1 Axes>"
      ]
     },
     "metadata": {},
     "output_type": "display_data"
    }
   ],
   "source": [
    "sns.countplot(x=\"Role_Manager\", data=df)"
   ]
  },
  {
   "cell_type": "code",
   "execution_count": 34,
   "id": "d442ba10",
   "metadata": {},
   "outputs": [
    {
     "data": {
      "text/plain": [
       "<AxesSubplot:xlabel='College', ylabel='count'>"
      ]
     },
     "execution_count": 34,
     "metadata": {},
     "output_type": "execute_result"
    },
    {
     "data": {
      "image/png": "[encoded data removed]",
      "text/plain": [
       "<Figure size 640x480 with 1 Axes>"
      ]
     },
     "metadata": {},
     "output_type": "display_data"
    }
   ],
   "source": [
    "sns.countplot(x=\"College\", data=df)"
   ]
  },
  {
   "cell_type": "code",
   "execution_count": 35,
   "id": "56ca2e13",
   "metadata": {},
   "outputs": [
    {
     "data": {
      "text/plain": [
       "<AxesSubplot:xlabel='City', ylabel='count'>"
      ]
     },
     "execution_count": 35,
     "metadata": {},
     "output_type": "execute_result"
    },
    {
     "data": {
      "image/png": "[encoded data removed]",
      "text/plain": [
       "<Figure size 640x480 with 1 Axes>"
      ]
     },
     "metadata": {},
     "output_type": "display_data"
    }
   ],
   "source": [
    "sns.countplot(x=\"City\", data=df)"
   ]
  },
  {
   "cell_type": "code",
   "execution_count": 36,
   "id": "b9846c8c",
   "metadata": {},
   "outputs": [
    {
     "data": {
      "text/plain": [
       "array([112826.26])"
      ]
     },
     "execution_count": 36,
     "metadata": {},
     "output_type": "execute_result"
    }
   ],
   "source": [
    "np.percentile(df.CTC,[99])"
   ]
  },
  {
   "cell_type": "code",
   "execution_count": 37,
   "id": "92b94858",
   "metadata": {},
   "outputs": [],
   "source": [
    "uv = np.percentile(df.CTC,[99])[0]"
   ]
  },
  {
   "cell_type": "code",
   "execution_count": 38,
   "id": "d9973c10",
   "metadata": {},
   "outputs": [
    {
     "data": {
      "text/html": [
       "<div>\n",
       "<style scoped>\n",
       "    .dataframe tbody tr th:only-of-type {\n",
       "        vertical-align: middle;\n",
       "    }\n",
       "\n",
       "    .dataframe tbody tr th {\n",
       "        vertical-align: top;\n",
       "    }\n",
       "\n",
       "    .dataframe thead th {\n",
       "        text-align: right;\n",
       "    }\n",
       "</style>\n",
       "<table border=\"1\" class=\"dataframe\">\n",
       "  <thead>\n",
       "    <tr style=\"text-align: right;\">\n",
       "      <th></th>\n",
       "      <th>College</th>\n",
       "      <th>City</th>\n",
       "      <th>Previous CTC</th>\n",
       "      <th>Previous job change</th>\n",
       "      <th>Graduation Marks</th>\n",
       "      <th>EXP (Month)</th>\n",
       "      <th>CTC</th>\n",
       "      <th>Role_Manager</th>\n",
       "    </tr>\n",
       "  </thead>\n",
       "  <tbody>\n",
       "    <tr>\n",
       "      <th>34</th>\n",
       "      <td>1</td>\n",
       "      <td>0</td>\n",
       "      <td>60894.0</td>\n",
       "      <td>4</td>\n",
       "      <td>80</td>\n",
       "      <td>28</td>\n",
       "      <td>118651.89</td>\n",
       "      <td>1</td>\n",
       "    </tr>\n",
       "    <tr>\n",
       "      <th>185</th>\n",
       "      <td>2</td>\n",
       "      <td>0</td>\n",
       "      <td>70258.0</td>\n",
       "      <td>4</td>\n",
       "      <td>38</td>\n",
       "      <td>36</td>\n",
       "      <td>115126.75</td>\n",
       "      <td>1</td>\n",
       "    </tr>\n",
       "    <tr>\n",
       "      <th>254</th>\n",
       "      <td>2</td>\n",
       "      <td>1</td>\n",
       "      <td>51912.0</td>\n",
       "      <td>2</td>\n",
       "      <td>66</td>\n",
       "      <td>50</td>\n",
       "      <td>113141.14</td>\n",
       "      <td>1</td>\n",
       "    </tr>\n",
       "    <tr>\n",
       "      <th>328</th>\n",
       "      <td>3</td>\n",
       "      <td>0</td>\n",
       "      <td>62264.0</td>\n",
       "      <td>2</td>\n",
       "      <td>52</td>\n",
       "      <td>64</td>\n",
       "      <td>114996.23</td>\n",
       "      <td>1</td>\n",
       "    </tr>\n",
       "    <tr>\n",
       "      <th>543</th>\n",
       "      <td>1</td>\n",
       "      <td>1</td>\n",
       "      <td>73856.0</td>\n",
       "      <td>1</td>\n",
       "      <td>75</td>\n",
       "      <td>54</td>\n",
       "      <td>121362.73</td>\n",
       "      <td>1</td>\n",
       "    </tr>\n",
       "    <tr>\n",
       "      <th>577</th>\n",
       "      <td>3</td>\n",
       "      <td>1</td>\n",
       "      <td>59101.0</td>\n",
       "      <td>3</td>\n",
       "      <td>56</td>\n",
       "      <td>31</td>\n",
       "      <td>113843.16</td>\n",
       "      <td>1</td>\n",
       "    </tr>\n",
       "    <tr>\n",
       "      <th>668</th>\n",
       "      <td>1</td>\n",
       "      <td>1</td>\n",
       "      <td>60476.0</td>\n",
       "      <td>1</td>\n",
       "      <td>85</td>\n",
       "      <td>62</td>\n",
       "      <td>113212.07</td>\n",
       "      <td>1</td>\n",
       "    </tr>\n",
       "    <tr>\n",
       "      <th>883</th>\n",
       "      <td>3</td>\n",
       "      <td>1</td>\n",
       "      <td>64930.0</td>\n",
       "      <td>1</td>\n",
       "      <td>66</td>\n",
       "      <td>51</td>\n",
       "      <td>114939.65</td>\n",
       "      <td>1</td>\n",
       "    </tr>\n",
       "    <tr>\n",
       "      <th>1146</th>\n",
       "      <td>1</td>\n",
       "      <td>1</td>\n",
       "      <td>61709.0</td>\n",
       "      <td>4</td>\n",
       "      <td>39</td>\n",
       "      <td>60</td>\n",
       "      <td>117207.24</td>\n",
       "      <td>1</td>\n",
       "    </tr>\n",
       "    <tr>\n",
       "      <th>1230</th>\n",
       "      <td>2</td>\n",
       "      <td>0</td>\n",
       "      <td>60298.0</td>\n",
       "      <td>1</td>\n",
       "      <td>47</td>\n",
       "      <td>52</td>\n",
       "      <td>123416.99</td>\n",
       "      <td>1</td>\n",
       "    </tr>\n",
       "    <tr>\n",
       "      <th>1240</th>\n",
       "      <td>2</td>\n",
       "      <td>1</td>\n",
       "      <td>67907.0</td>\n",
       "      <td>2</td>\n",
       "      <td>74</td>\n",
       "      <td>52</td>\n",
       "      <td>113508.80</td>\n",
       "      <td>1</td>\n",
       "    </tr>\n",
       "    <tr>\n",
       "      <th>1284</th>\n",
       "      <td>2</td>\n",
       "      <td>1</td>\n",
       "      <td>65519.0</td>\n",
       "      <td>3</td>\n",
       "      <td>55</td>\n",
       "      <td>61</td>\n",
       "      <td>117307.70</td>\n",
       "      <td>1</td>\n",
       "    </tr>\n",
       "    <tr>\n",
       "      <th>1300</th>\n",
       "      <td>2</td>\n",
       "      <td>1</td>\n",
       "      <td>59883.0</td>\n",
       "      <td>4</td>\n",
       "      <td>40</td>\n",
       "      <td>45</td>\n",
       "      <td>119585.49</td>\n",
       "      <td>1</td>\n",
       "    </tr>\n",
       "    <tr>\n",
       "      <th>1372</th>\n",
       "      <td>1</td>\n",
       "      <td>1</td>\n",
       "      <td>60894.0</td>\n",
       "      <td>4</td>\n",
       "      <td>80</td>\n",
       "      <td>28</td>\n",
       "      <td>118651.89</td>\n",
       "      <td>1</td>\n",
       "    </tr>\n",
       "    <tr>\n",
       "      <th>1523</th>\n",
       "      <td>2</td>\n",
       "      <td>1</td>\n",
       "      <td>70258.0</td>\n",
       "      <td>4</td>\n",
       "      <td>38</td>\n",
       "      <td>36</td>\n",
       "      <td>115126.75</td>\n",
       "      <td>1</td>\n",
       "    </tr>\n",
       "  </tbody>\n",
       "</table>\n",
       "</div>"
      ],
      "text/plain": [
       "      College  City  Previous CTC  Previous job change  Graduation Marks  \\\n",
       "34          1     0       60894.0                    4                80   \n",
       "185         2     0       70258.0                    4                38   \n",
       "254         2     1       51912.0                    2                66   \n",
       "328         3     0       62264.0                    2                52   \n",
       "543         1     1       73856.0                    1                75   \n",
       "577         3     1       59101.0                    3                56   \n",
       "668         1     1       60476.0                    1                85   \n",
       "883         3     1       64930.0                    1                66   \n",
       "1146        1     1       61709.0                    4                39   \n",
       "1230        2     0       60298.0                    1                47   \n",
       "1240        2     1       67907.0                    2                74   \n",
       "1284        2     1       65519.0                    3                55   \n",
       "1300        2     1       59883.0                    4                40   \n",
       "1372        1     1       60894.0                    4                80   \n",
       "1523        2     1       70258.0                    4                38   \n",
       "\n",
       "      EXP (Month)        CTC  Role_Manager  \n",
       "34             28  118651.89             1  \n",
       "185            36  115126.75             1  \n",
       "254            50  113141.14             1  \n",
       "328            64  114996.23             1  \n",
       "543            54  121362.73             1  \n",
       "577            31  113843.16             1  \n",
       "668            62  113212.07             1  \n",
       "883            51  114939.65             1  \n",
       "1146           60  117207.24             1  \n",
       "1230           52  123416.99             1  \n",
       "1240           52  113508.80             1  \n",
       "1284           61  117307.70             1  \n",
       "1300           45  119585.49             1  \n",
       "1372           28  118651.89             1  \n",
       "1523           36  115126.75             1  "
      ]
     },
     "execution_count": 38,
     "metadata": {},
     "output_type": "execute_result"
    }
   ],
   "source": [
    "df[(df.CTC > uv)]"
   ]
  },
  {
   "cell_type": "code",
   "execution_count": 39,
   "id": "379399ba",
   "metadata": {},
   "outputs": [
    {
     "name": "stderr",
     "output_type": "stream",
     "text": [
      "C:\\Users\\MANISH KUMAR\\AppData\\Local\\Temp\\ipykernel_16764\\3806643318.py:1: SettingWithCopyWarning: \n",
      "A value is trying to be set on a copy of a slice from a DataFrame\n",
      "\n",
      "See the caveats in the documentation: https://pandas.pydata.org/pandas-docs/stable/user_guide/indexing.html#returning-a-view-versus-a-copy\n",
      "  df.CTC[(df.CTC> 3*uv)]= 3*uv\n"
     ]
    }
   ],
   "source": [
    "df.CTC[(df.CTC> 3*uv)]= 3*uv"
   ]
  },
  {
   "cell_type": "code",
   "execution_count": 40,
   "id": "b6b54c13",
   "metadata": {},
   "outputs": [
    {
     "data": {
      "text/plain": [
       "array([71506.92])"
      ]
     },
     "execution_count": 40,
     "metadata": {},
     "output_type": "execute_result"
    }
   ],
   "source": [
    "np.percentile(df['Previous CTC'],[99])"
   ]
  },
  {
   "cell_type": "code",
   "execution_count": 41,
   "id": "a8ddcca3",
   "metadata": {},
   "outputs": [],
   "source": [
    "uv1 = np.percentile(df['Previous CTC'],[99])[0]"
   ]
  },
  {
   "cell_type": "code",
   "execution_count": 42,
   "id": "cdd33cc4",
   "metadata": {},
   "outputs": [
    {
     "data": {
      "text/html": [
       "<div>\n",
       "<style scoped>\n",
       "    .dataframe tbody tr th:only-of-type {\n",
       "        vertical-align: middle;\n",
       "    }\n",
       "\n",
       "    .dataframe tbody tr th {\n",
       "        vertical-align: top;\n",
       "    }\n",
       "\n",
       "    .dataframe thead th {\n",
       "        text-align: right;\n",
       "    }\n",
       "</style>\n",
       "<table border=\"1\" class=\"dataframe\">\n",
       "  <thead>\n",
       "    <tr style=\"text-align: right;\">\n",
       "      <th></th>\n",
       "      <th>College</th>\n",
       "      <th>City</th>\n",
       "      <th>Previous CTC</th>\n",
       "      <th>Previous job change</th>\n",
       "      <th>Graduation Marks</th>\n",
       "      <th>EXP (Month)</th>\n",
       "      <th>CTC</th>\n",
       "      <th>Role_Manager</th>\n",
       "    </tr>\n",
       "  </thead>\n",
       "  <tbody>\n",
       "    <tr>\n",
       "      <th>116</th>\n",
       "      <td>3</td>\n",
       "      <td>1</td>\n",
       "      <td>77911.0</td>\n",
       "      <td>1</td>\n",
       "      <td>50</td>\n",
       "      <td>58</td>\n",
       "      <td>87831.62</td>\n",
       "      <td>0</td>\n",
       "    </tr>\n",
       "    <tr>\n",
       "      <th>292</th>\n",
       "      <td>3</td>\n",
       "      <td>0</td>\n",
       "      <td>74198.0</td>\n",
       "      <td>1</td>\n",
       "      <td>57</td>\n",
       "      <td>25</td>\n",
       "      <td>99644.51</td>\n",
       "      <td>1</td>\n",
       "    </tr>\n",
       "    <tr>\n",
       "      <th>543</th>\n",
       "      <td>1</td>\n",
       "      <td>1</td>\n",
       "      <td>73856.0</td>\n",
       "      <td>1</td>\n",
       "      <td>75</td>\n",
       "      <td>54</td>\n",
       "      <td>121362.73</td>\n",
       "      <td>1</td>\n",
       "    </tr>\n",
       "    <tr>\n",
       "      <th>572</th>\n",
       "      <td>1</td>\n",
       "      <td>1</td>\n",
       "      <td>71543.0</td>\n",
       "      <td>4</td>\n",
       "      <td>82</td>\n",
       "      <td>30</td>\n",
       "      <td>61366.78</td>\n",
       "      <td>0</td>\n",
       "    </tr>\n",
       "    <tr>\n",
       "      <th>701</th>\n",
       "      <td>2</td>\n",
       "      <td>0</td>\n",
       "      <td>71549.0</td>\n",
       "      <td>4</td>\n",
       "      <td>47</td>\n",
       "      <td>50</td>\n",
       "      <td>83116.21</td>\n",
       "      <td>0</td>\n",
       "    </tr>\n",
       "    <tr>\n",
       "      <th>847</th>\n",
       "      <td>1</td>\n",
       "      <td>1</td>\n",
       "      <td>71756.0</td>\n",
       "      <td>4</td>\n",
       "      <td>67</td>\n",
       "      <td>23</td>\n",
       "      <td>72141.43</td>\n",
       "      <td>0</td>\n",
       "    </tr>\n",
       "    <tr>\n",
       "      <th>860</th>\n",
       "      <td>1</td>\n",
       "      <td>1</td>\n",
       "      <td>75785.0</td>\n",
       "      <td>4</td>\n",
       "      <td>63</td>\n",
       "      <td>37</td>\n",
       "      <td>110338.25</td>\n",
       "      <td>1</td>\n",
       "    </tr>\n",
       "    <tr>\n",
       "      <th>941</th>\n",
       "      <td>3</td>\n",
       "      <td>1</td>\n",
       "      <td>72319.0</td>\n",
       "      <td>1</td>\n",
       "      <td>51</td>\n",
       "      <td>50</td>\n",
       "      <td>63538.43</td>\n",
       "      <td>0</td>\n",
       "    </tr>\n",
       "    <tr>\n",
       "      <th>1024</th>\n",
       "      <td>1</td>\n",
       "      <td>1</td>\n",
       "      <td>72661.0</td>\n",
       "      <td>3</td>\n",
       "      <td>74</td>\n",
       "      <td>47</td>\n",
       "      <td>70238.70</td>\n",
       "      <td>0</td>\n",
       "    </tr>\n",
       "    <tr>\n",
       "      <th>1047</th>\n",
       "      <td>1</td>\n",
       "      <td>0</td>\n",
       "      <td>73214.0</td>\n",
       "      <td>4</td>\n",
       "      <td>57</td>\n",
       "      <td>22</td>\n",
       "      <td>100119.53</td>\n",
       "      <td>1</td>\n",
       "    </tr>\n",
       "    <tr>\n",
       "      <th>1067</th>\n",
       "      <td>3</td>\n",
       "      <td>0</td>\n",
       "      <td>71760.0</td>\n",
       "      <td>4</td>\n",
       "      <td>40</td>\n",
       "      <td>39</td>\n",
       "      <td>71187.52</td>\n",
       "      <td>0</td>\n",
       "    </tr>\n",
       "    <tr>\n",
       "      <th>1088</th>\n",
       "      <td>3</td>\n",
       "      <td>1</td>\n",
       "      <td>76815.0</td>\n",
       "      <td>4</td>\n",
       "      <td>75</td>\n",
       "      <td>52</td>\n",
       "      <td>82684.17</td>\n",
       "      <td>0</td>\n",
       "    </tr>\n",
       "    <tr>\n",
       "      <th>1131</th>\n",
       "      <td>2</td>\n",
       "      <td>1</td>\n",
       "      <td>74256.0</td>\n",
       "      <td>2</td>\n",
       "      <td>40</td>\n",
       "      <td>27</td>\n",
       "      <td>83023.18</td>\n",
       "      <td>0</td>\n",
       "    </tr>\n",
       "    <tr>\n",
       "      <th>1317</th>\n",
       "      <td>1</td>\n",
       "      <td>0</td>\n",
       "      <td>76070.0</td>\n",
       "      <td>2</td>\n",
       "      <td>54</td>\n",
       "      <td>18</td>\n",
       "      <td>58309.56</td>\n",
       "      <td>0</td>\n",
       "    </tr>\n",
       "    <tr>\n",
       "      <th>1332</th>\n",
       "      <td>3</td>\n",
       "      <td>1</td>\n",
       "      <td>72649.0</td>\n",
       "      <td>3</td>\n",
       "      <td>69</td>\n",
       "      <td>52</td>\n",
       "      <td>78861.46</td>\n",
       "      <td>0</td>\n",
       "    </tr>\n",
       "    <tr>\n",
       "      <th>1454</th>\n",
       "      <td>1</td>\n",
       "      <td>1</td>\n",
       "      <td>77911.0</td>\n",
       "      <td>1</td>\n",
       "      <td>50</td>\n",
       "      <td>58</td>\n",
       "      <td>87831.62</td>\n",
       "      <td>0</td>\n",
       "    </tr>\n",
       "  </tbody>\n",
       "</table>\n",
       "</div>"
      ],
      "text/plain": [
       "      College  City  Previous CTC  Previous job change  Graduation Marks  \\\n",
       "116         3     1       77911.0                    1                50   \n",
       "292         3     0       74198.0                    1                57   \n",
       "543         1     1       73856.0                    1                75   \n",
       "572         1     1       71543.0                    4                82   \n",
       "701         2     0       71549.0                    4                47   \n",
       "847         1     1       71756.0                    4                67   \n",
       "860         1     1       75785.0                    4                63   \n",
       "941         3     1       72319.0                    1                51   \n",
       "1024        1     1       72661.0                    3                74   \n",
       "1047        1     0       73214.0                    4                57   \n",
       "1067        3     0       71760.0                    4                40   \n",
       "1088        3     1       76815.0                    4                75   \n",
       "1131        2     1       74256.0                    2                40   \n",
       "1317        1     0       76070.0                    2                54   \n",
       "1332        3     1       72649.0                    3                69   \n",
       "1454        1     1       77911.0                    1                50   \n",
       "\n",
       "      EXP (Month)        CTC  Role_Manager  \n",
       "116            58   87831.62             0  \n",
       "292            25   99644.51             1  \n",
       "543            54  121362.73             1  \n",
       "572            30   61366.78             0  \n",
       "701            50   83116.21             0  \n",
       "847            23   72141.43             0  \n",
       "860            37  110338.25             1  \n",
       "941            50   63538.43             0  \n",
       "1024           47   70238.70             0  \n",
       "1047           22  100119.53             1  \n",
       "1067           39   71187.52             0  \n",
       "1088           52   82684.17             0  \n",
       "1131           27   83023.18             0  \n",
       "1317           18   58309.56             0  \n",
       "1332           52   78861.46             0  \n",
       "1454           58   87831.62             0  "
      ]
     },
     "execution_count": 42,
     "metadata": {},
     "output_type": "execute_result"
    }
   ],
   "source": [
    "df[(df['Previous CTC'] > uv1)]"
   ]
  },
  {
   "cell_type": "code",
   "execution_count": 43,
   "id": "ff178ce8",
   "metadata": {},
   "outputs": [
    {
     "name": "stderr",
     "output_type": "stream",
     "text": [
      "C:\\Users\\MANISH KUMAR\\AppData\\Local\\Temp\\ipykernel_16764\\4226724535.py:1: SettingWithCopyWarning: \n",
      "A value is trying to be set on a copy of a slice from a DataFrame\n",
      "\n",
      "See the caveats in the documentation: https://pandas.pydata.org/pandas-docs/stable/user_guide/indexing.html#returning-a-view-versus-a-copy\n",
      "  df['Previous CTC'][(df['Previous CTC']> 3*uv)]= 3*uv\n"
     ]
    }
   ],
   "source": [
    "df['Previous CTC'][(df['Previous CTC']> 3*uv)]= 3*uv"
   ]
  },
  {
   "cell_type": "code",
   "execution_count": 44,
   "id": "4512cdf1",
   "metadata": {},
   "outputs": [
    {
     "data": {
      "text/html": [
       "<div>\n",
       "<style scoped>\n",
       "    .dataframe tbody tr th:only-of-type {\n",
       "        vertical-align: middle;\n",
       "    }\n",
       "\n",
       "    .dataframe tbody tr th {\n",
       "        vertical-align: top;\n",
       "    }\n",
       "\n",
       "    .dataframe thead th {\n",
       "        text-align: right;\n",
       "    }\n",
       "</style>\n",
       "<table border=\"1\" class=\"dataframe\">\n",
       "  <thead>\n",
       "    <tr style=\"text-align: right;\">\n",
       "      <th></th>\n",
       "      <th>College</th>\n",
       "      <th>City</th>\n",
       "      <th>Previous CTC</th>\n",
       "      <th>Previous job change</th>\n",
       "      <th>Graduation Marks</th>\n",
       "      <th>EXP (Month)</th>\n",
       "      <th>CTC</th>\n",
       "      <th>Role_Manager</th>\n",
       "    </tr>\n",
       "  </thead>\n",
       "  <tbody>\n",
       "    <tr>\n",
       "      <th>count</th>\n",
       "      <td>1589.000000</td>\n",
       "      <td>1589.000000</td>\n",
       "      <td>1589.000000</td>\n",
       "      <td>1589.000000</td>\n",
       "      <td>1589.000000</td>\n",
       "      <td>1589.000000</td>\n",
       "      <td>1589.000000</td>\n",
       "      <td>1589.000000</td>\n",
       "    </tr>\n",
       "    <tr>\n",
       "      <th>mean</th>\n",
       "      <td>1.975456</td>\n",
       "      <td>0.514160</td>\n",
       "      <td>55518.453744</td>\n",
       "      <td>2.528634</td>\n",
       "      <td>59.855255</td>\n",
       "      <td>39.044682</td>\n",
       "      <td>75353.278798</td>\n",
       "      <td>0.206419</td>\n",
       "    </tr>\n",
       "    <tr>\n",
       "      <th>std</th>\n",
       "      <td>0.838330</td>\n",
       "      <td>0.499957</td>\n",
       "      <td>6655.218445</td>\n",
       "      <td>1.123918</td>\n",
       "      <td>14.935139</td>\n",
       "      <td>14.108875</td>\n",
       "      <td>12587.288237</td>\n",
       "      <td>0.404862</td>\n",
       "    </tr>\n",
       "    <tr>\n",
       "      <th>min</th>\n",
       "      <td>1.000000</td>\n",
       "      <td>0.000000</td>\n",
       "      <td>36990.000000</td>\n",
       "      <td>1.000000</td>\n",
       "      <td>35.000000</td>\n",
       "      <td>18.000000</td>\n",
       "      <td>53020.320000</td>\n",
       "      <td>0.000000</td>\n",
       "    </tr>\n",
       "    <tr>\n",
       "      <th>25%</th>\n",
       "      <td>1.000000</td>\n",
       "      <td>0.000000</td>\n",
       "      <td>50518.000000</td>\n",
       "      <td>2.000000</td>\n",
       "      <td>46.000000</td>\n",
       "      <td>26.000000</td>\n",
       "      <td>66902.350000</td>\n",
       "      <td>0.000000</td>\n",
       "    </tr>\n",
       "    <tr>\n",
       "      <th>50%</th>\n",
       "      <td>2.000000</td>\n",
       "      <td>1.000000</td>\n",
       "      <td>55291.000000</td>\n",
       "      <td>3.000000</td>\n",
       "      <td>60.000000</td>\n",
       "      <td>39.000000</td>\n",
       "      <td>73028.670000</td>\n",
       "      <td>0.000000</td>\n",
       "    </tr>\n",
       "    <tr>\n",
       "      <th>75%</th>\n",
       "      <td>3.000000</td>\n",
       "      <td>1.000000</td>\n",
       "      <td>60109.000000</td>\n",
       "      <td>4.000000</td>\n",
       "      <td>73.000000</td>\n",
       "      <td>51.000000</td>\n",
       "      <td>80588.670000</td>\n",
       "      <td>0.000000</td>\n",
       "    </tr>\n",
       "    <tr>\n",
       "      <th>max</th>\n",
       "      <td>3.000000</td>\n",
       "      <td>1.000000</td>\n",
       "      <td>77911.000000</td>\n",
       "      <td>4.000000</td>\n",
       "      <td>85.000000</td>\n",
       "      <td>64.000000</td>\n",
       "      <td>123416.990000</td>\n",
       "      <td>1.000000</td>\n",
       "    </tr>\n",
       "  </tbody>\n",
       "</table>\n",
       "</div>"
      ],
      "text/plain": [
       "           College         City  Previous CTC  Previous job change  \\\n",
       "count  1589.000000  1589.000000   1589.000000          1589.000000   \n",
       "mean      1.975456     0.514160  55518.453744             2.528634   \n",
       "std       0.838330     0.499957   6655.218445             1.123918   \n",
       "min       1.000000     0.000000  36990.000000             1.000000   \n",
       "25%       1.000000     0.000000  50518.000000             2.000000   \n",
       "50%       2.000000     1.000000  55291.000000             3.000000   \n",
       "75%       3.000000     1.000000  60109.000000             4.000000   \n",
       "max       3.000000     1.000000  77911.000000             4.000000   \n",
       "\n",
       "       Graduation Marks  EXP (Month)            CTC  Role_Manager  \n",
       "count       1589.000000  1589.000000    1589.000000   1589.000000  \n",
       "mean          59.855255    39.044682   75353.278798      0.206419  \n",
       "std           14.935139    14.108875   12587.288237      0.404862  \n",
       "min           35.000000    18.000000   53020.320000      0.000000  \n",
       "25%           46.000000    26.000000   66902.350000      0.000000  \n",
       "50%           60.000000    39.000000   73028.670000      0.000000  \n",
       "75%           73.000000    51.000000   80588.670000      0.000000  \n",
       "max           85.000000    64.000000  123416.990000      1.000000  "
      ]
     },
     "execution_count": 44,
     "metadata": {},
     "output_type": "execute_result"
    }
   ],
   "source": [
    "df.describe()"
   ]
  },
  {
   "cell_type": "markdown",
   "id": "b578519f",
   "metadata": {},
   "source": [
    "# Finally saving this data file as Final_data"
   ]
  },
  {
   "cell_type": "code",
   "execution_count": 45,
   "id": "4a9ea3bc",
   "metadata": {},
   "outputs": [],
   "source": [
    "df.to_csv('Final_data.csv', index=False)\n",
    "\n",
    "# Loading dataset\n",
    "\n",
    "data = pd.read_csv('C:/Users/MANISH KUMAR/Desktop/Y Finance/ML project/Final_data.csv')"
   ]
  },
  {
   "cell_type": "code",
   "execution_count": 46,
   "id": "abf6c37f",
   "metadata": {
    "scrolled": true
   },
   "outputs": [
    {
     "data": {
      "text/html": [
       "<div>\n",
       "<style scoped>\n",
       "    .dataframe tbody tr th:only-of-type {\n",
       "        vertical-align: middle;\n",
       "    }\n",
       "\n",
       "    .dataframe tbody tr th {\n",
       "        vertical-align: top;\n",
       "    }\n",
       "\n",
       "    .dataframe thead th {\n",
       "        text-align: right;\n",
       "    }\n",
       "</style>\n",
       "<table border=\"1\" class=\"dataframe\">\n",
       "  <thead>\n",
       "    <tr style=\"text-align: right;\">\n",
       "      <th></th>\n",
       "      <th>College</th>\n",
       "      <th>City</th>\n",
       "      <th>Previous CTC</th>\n",
       "      <th>Previous job change</th>\n",
       "      <th>Graduation Marks</th>\n",
       "      <th>EXP (Month)</th>\n",
       "      <th>CTC</th>\n",
       "      <th>Role_Manager</th>\n",
       "    </tr>\n",
       "  </thead>\n",
       "  <tbody>\n",
       "    <tr>\n",
       "      <th>College</th>\n",
       "      <td>1.000000</td>\n",
       "      <td>-0.014946</td>\n",
       "      <td>0.041979</td>\n",
       "      <td>-0.055060</td>\n",
       "      <td>0.003539</td>\n",
       "      <td>0.011752</td>\n",
       "      <td>-0.029592</td>\n",
       "      <td>-0.014749</td>\n",
       "    </tr>\n",
       "    <tr>\n",
       "      <th>City</th>\n",
       "      <td>-0.014946</td>\n",
       "      <td>1.000000</td>\n",
       "      <td>0.004644</td>\n",
       "      <td>0.051670</td>\n",
       "      <td>-0.018616</td>\n",
       "      <td>-0.023613</td>\n",
       "      <td>-0.020365</td>\n",
       "      <td>-0.048671</td>\n",
       "    </tr>\n",
       "    <tr>\n",
       "      <th>Previous CTC</th>\n",
       "      <td>0.041979</td>\n",
       "      <td>0.004644</td>\n",
       "      <td>1.000000</td>\n",
       "      <td>0.005756</td>\n",
       "      <td>-0.032976</td>\n",
       "      <td>0.119163</td>\n",
       "      <td>0.258000</td>\n",
       "      <td>0.012321</td>\n",
       "    </tr>\n",
       "    <tr>\n",
       "      <th>Previous job change</th>\n",
       "      <td>-0.055060</td>\n",
       "      <td>0.051670</td>\n",
       "      <td>0.005756</td>\n",
       "      <td>1.000000</td>\n",
       "      <td>0.019267</td>\n",
       "      <td>0.023488</td>\n",
       "      <td>0.011370</td>\n",
       "      <td>-0.017150</td>\n",
       "    </tr>\n",
       "    <tr>\n",
       "      <th>Graduation Marks</th>\n",
       "      <td>0.003539</td>\n",
       "      <td>-0.018616</td>\n",
       "      <td>-0.032976</td>\n",
       "      <td>0.019267</td>\n",
       "      <td>1.000000</td>\n",
       "      <td>-0.057061</td>\n",
       "      <td>-0.005450</td>\n",
       "      <td>0.017858</td>\n",
       "    </tr>\n",
       "    <tr>\n",
       "      <th>EXP (Month)</th>\n",
       "      <td>0.011752</td>\n",
       "      <td>-0.023613</td>\n",
       "      <td>0.119163</td>\n",
       "      <td>0.023488</td>\n",
       "      <td>-0.057061</td>\n",
       "      <td>1.000000</td>\n",
       "      <td>0.301115</td>\n",
       "      <td>-0.026751</td>\n",
       "    </tr>\n",
       "    <tr>\n",
       "      <th>CTC</th>\n",
       "      <td>-0.029592</td>\n",
       "      <td>-0.020365</td>\n",
       "      <td>0.258000</td>\n",
       "      <td>0.011370</td>\n",
       "      <td>-0.005450</td>\n",
       "      <td>0.301115</td>\n",
       "      <td>1.000000</td>\n",
       "      <td>0.621311</td>\n",
       "    </tr>\n",
       "    <tr>\n",
       "      <th>Role_Manager</th>\n",
       "      <td>-0.014749</td>\n",
       "      <td>-0.048671</td>\n",
       "      <td>0.012321</td>\n",
       "      <td>-0.017150</td>\n",
       "      <td>0.017858</td>\n",
       "      <td>-0.026751</td>\n",
       "      <td>0.621311</td>\n",
       "      <td>1.000000</td>\n",
       "    </tr>\n",
       "  </tbody>\n",
       "</table>\n",
       "</div>"
      ],
      "text/plain": [
       "                      College      City  Previous CTC  Previous job change  \\\n",
       "College              1.000000 -0.014946      0.041979            -0.055060   \n",
       "City                -0.014946  1.000000      0.004644             0.051670   \n",
       "Previous CTC         0.041979  0.004644      1.000000             0.005756   \n",
       "Previous job change -0.055060  0.051670      0.005756             1.000000   \n",
       "Graduation Marks     0.003539 -0.018616     -0.032976             0.019267   \n",
       "EXP (Month)          0.011752 -0.023613      0.119163             0.023488   \n",
       "CTC                 -0.029592 -0.020365      0.258000             0.011370   \n",
       "Role_Manager        -0.014749 -0.048671      0.012321            -0.017150   \n",
       "\n",
       "                     Graduation Marks  EXP (Month)       CTC  Role_Manager  \n",
       "College                      0.003539     0.011752 -0.029592     -0.014749  \n",
       "City                        -0.018616    -0.023613 -0.020365     -0.048671  \n",
       "Previous CTC                -0.032976     0.119163  0.258000      0.012321  \n",
       "Previous job change          0.019267     0.023488  0.011370     -0.017150  \n",
       "Graduation Marks             1.000000    -0.057061 -0.005450      0.017858  \n",
       "EXP (Month)                 -0.057061     1.000000  0.301115     -0.026751  \n",
       "CTC                         -0.005450     0.301115  1.000000      0.621311  \n",
       "Role_Manager                 0.017858    -0.026751  0.621311      1.000000  "
      ]
     },
     "execution_count": 46,
     "metadata": {},
     "output_type": "execute_result"
    }
   ],
   "source": [
    "data.corr()"
   ]
  },
  {
   "cell_type": "code",
   "execution_count": 47,
   "id": "73326113",
   "metadata": {},
   "outputs": [],
   "source": [
    "import statsmodels.api as sn"
   ]
  },
  {
   "cell_type": "markdown",
   "id": "d798da8b",
   "metadata": {},
   "source": [
    "# Linear Regression with single predictor"
   ]
  },
  {
   "cell_type": "code",
   "execution_count": 48,
   "id": "fca32209",
   "metadata": {},
   "outputs": [],
   "source": [
    "from sklearn.linear_model import LinearRegression"
   ]
  },
  {
   "cell_type": "code",
   "execution_count": 49,
   "id": "16cd8a0c",
   "metadata": {},
   "outputs": [],
   "source": [
    "lm = LinearRegression()"
   ]
  },
  {
   "cell_type": "code",
   "execution_count": 50,
   "id": "92aac93e",
   "metadata": {},
   "outputs": [],
   "source": [
    "X = data[['CTC']]\n",
    "y = data['Role_Manager']"
   ]
  },
  {
   "cell_type": "code",
   "execution_count": 51,
   "id": "32bb45ad",
   "metadata": {},
   "outputs": [
    {
     "data": {
      "text/plain": [
       "LinearRegression()"
      ]
     },
     "execution_count": 51,
     "metadata": {},
     "output_type": "execute_result"
    }
   ],
   "source": [
    "lm.fit(X, y)"
   ]
  },
  {
   "cell_type": "code",
   "execution_count": 52,
   "id": "e37fb797",
   "metadata": {},
   "outputs": [
    {
     "data": {
      "text/plain": [
       "-1.2994469602929073"
      ]
     },
     "execution_count": 52,
     "metadata": {},
     "output_type": "execute_result"
    }
   ],
   "source": [
    "lm.intercept_ "
   ]
  },
  {
   "cell_type": "code",
   "execution_count": 53,
   "id": "3ee318bd",
   "metadata": {},
   "outputs": [
    {
     "data": {
      "text/plain": [
       "array([1.99840819e-05])"
      ]
     },
     "execution_count": 53,
     "metadata": {},
     "output_type": "execute_result"
    }
   ],
   "source": [
    "lm.coef_"
   ]
  },
  {
   "cell_type": "code",
   "execution_count": 54,
   "id": "cf5c8fd7",
   "metadata": {},
   "outputs": [
    {
     "name": "stdout",
     "output_type": "stream",
     "text": [
      "-1.2994469602929073 [1.99840819e-05]\n"
     ]
    }
   ],
   "source": [
    "print(lm.intercept_, lm.coef_)"
   ]
  },
  {
   "cell_type": "code",
   "execution_count": 68,
   "id": "a76a4d4f",
   "metadata": {},
   "outputs": [],
   "source": [
    "X_cons = sn.add_constant(X) "
   ]
  },
  {
   "cell_type": "code",
   "execution_count": 69,
   "id": "d6628f3f",
   "metadata": {},
   "outputs": [],
   "source": [
    "lm_single = sn.OLS(y, X_cons).fit()"
   ]
  },
  {
   "cell_type": "code",
   "execution_count": 70,
   "id": "3c073b16",
   "metadata": {},
   "outputs": [
    {
     "data": {
      "text/html": [
       "<table class=\"simpletable\">\n",
       "<caption>OLS Regression Results</caption>\n",
       "<tr>\n",
       "  <th>Dep. Variable:</th>      <td>Role_Manager</td>   <th>  R-squared:         </th> <td>   0.386</td> \n",
       "</tr>\n",
       "<tr>\n",
       "  <th>Model:</th>                   <td>OLS</td>       <th>  Adj. R-squared:    </th> <td>   0.386</td> \n",
       "</tr>\n",
       "<tr>\n",
       "  <th>Method:</th>             <td>Least Squares</td>  <th>  F-statistic:       </th> <td>   997.8</td> \n",
       "</tr>\n",
       "<tr>\n",
       "  <th>Date:</th>             <td>Sat, 27 Jan 2024</td> <th>  Prob (F-statistic):</th> <td>2.54e-170</td>\n",
       "</tr>\n",
       "<tr>\n",
       "  <th>Time:</th>                 <td>20:08:14</td>     <th>  Log-Likelihood:    </th> <td> -429.84</td> \n",
       "</tr>\n",
       "<tr>\n",
       "  <th>No. Observations:</th>      <td>  1589</td>      <th>  AIC:               </th> <td>   863.7</td> \n",
       "</tr>\n",
       "<tr>\n",
       "  <th>Df Residuals:</th>          <td>  1587</td>      <th>  BIC:               </th> <td>   874.4</td> \n",
       "</tr>\n",
       "<tr>\n",
       "  <th>Df Model:</th>              <td>     1</td>      <th>                     </th>     <td> </td>    \n",
       "</tr>\n",
       "<tr>\n",
       "  <th>Covariance Type:</th>      <td>nonrobust</td>    <th>                     </th>     <td> </td>    \n",
       "</tr>\n",
       "</table>\n",
       "<table class=\"simpletable\">\n",
       "<tr>\n",
       "    <td></td>       <th>coef</th>     <th>std err</th>      <th>t</th>      <th>P>|t|</th>  <th>[0.025</th>    <th>0.975]</th>  \n",
       "</tr>\n",
       "<tr>\n",
       "  <th>const</th> <td>   -1.2994</td> <td>    0.048</td> <td>  -26.886</td> <td> 0.000</td> <td>   -1.394</td> <td>   -1.205</td>\n",
       "</tr>\n",
       "<tr>\n",
       "  <th>CTC</th>   <td> 1.998e-05</td> <td> 6.33e-07</td> <td>   31.588</td> <td> 0.000</td> <td> 1.87e-05</td> <td> 2.12e-05</td>\n",
       "</tr>\n",
       "</table>\n",
       "<table class=\"simpletable\">\n",
       "<tr>\n",
       "  <th>Omnibus:</th>       <td>252.001</td> <th>  Durbin-Watson:     </th> <td>   1.933</td>\n",
       "</tr>\n",
       "<tr>\n",
       "  <th>Prob(Omnibus):</th> <td> 0.000</td>  <th>  Jarque-Bera (JB):  </th> <td> 394.964</td>\n",
       "</tr>\n",
       "<tr>\n",
       "  <th>Skew:</th>          <td> 1.079</td>  <th>  Prob(JB):          </th> <td>1.72e-86</td>\n",
       "</tr>\n",
       "<tr>\n",
       "  <th>Kurtosis:</th>      <td> 4.143</td>  <th>  Cond. No.          </th> <td>4.64e+05</td>\n",
       "</tr>\n",
       "</table><br/><br/>Notes:<br/>[1] Standard Errors assume that the covariance matrix of the errors is correctly specified.<br/>[2] The condition number is large, 4.64e+05. This might indicate that there are<br/>strong multicollinearity or other numerical problems."
      ],
      "text/plain": [
       "<class 'statsmodels.iolib.summary.Summary'>\n",
       "\"\"\"\n",
       "                            OLS Regression Results                            \n",
       "==============================================================================\n",
       "Dep. Variable:           Role_Manager   R-squared:                       0.386\n",
       "Model:                            OLS   Adj. R-squared:                  0.386\n",
       "Method:                 Least Squares   F-statistic:                     997.8\n",
       "Date:                Sat, 27 Jan 2024   Prob (F-statistic):          2.54e-170\n",
       "Time:                        20:08:14   Log-Likelihood:                -429.84\n",
       "No. Observations:                1589   AIC:                             863.7\n",
       "Df Residuals:                    1587   BIC:                             874.4\n",
       "Df Model:                           1                                         \n",
       "Covariance Type:            nonrobust                                         \n",
       "==============================================================================\n",
       "                 coef    std err          t      P>|t|      [0.025      0.975]\n",
       "------------------------------------------------------------------------------\n",
       "const         -1.2994      0.048    -26.886      0.000      -1.394      -1.205\n",
       "CTC         1.998e-05   6.33e-07     31.588      0.000    1.87e-05    2.12e-05\n",
       "==============================================================================\n",
       "Omnibus:                      252.001   Durbin-Watson:                   1.933\n",
       "Prob(Omnibus):                  0.000   Jarque-Bera (JB):              394.964\n",
       "Skew:                           1.079   Prob(JB):                     1.72e-86\n",
       "Kurtosis:                       4.143   Cond. No.                     4.64e+05\n",
       "==============================================================================\n",
       "\n",
       "Notes:\n",
       "[1] Standard Errors assume that the covariance matrix of the errors is correctly specified.\n",
       "[2] The condition number is large, 4.64e+05. This might indicate that there are\n",
       "strong multicollinearity or other numerical problems.\n",
       "\"\"\""
      ]
     },
     "execution_count": 70,
     "metadata": {},
     "output_type": "execute_result"
    }
   ],
   "source": [
    "# Ckecking summary Using stats model\n",
    "\n",
    "lm_single.summary()"
   ]
  },
  {
   "cell_type": "markdown",
   "id": "381c3404",
   "metadata": {},
   "source": [
    "# Linear Regression with Multiple predictor"
   ]
  },
  {
   "cell_type": "code",
   "execution_count": 55,
   "id": "349ccb23",
   "metadata": {},
   "outputs": [],
   "source": [
    "X_multi = data.drop(\"CTC\",axis=1)\n",
    "y_multi = data['CTC']"
   ]
  },
  {
   "cell_type": "code",
   "execution_count": 56,
   "id": "b0fb4bd0",
   "metadata": {},
   "outputs": [
    {
     "data": {
      "text/html": [
       "<div>\n",
       "<style scoped>\n",
       "    .dataframe tbody tr th:only-of-type {\n",
       "        vertical-align: middle;\n",
       "    }\n",
       "\n",
       "    .dataframe tbody tr th {\n",
       "        vertical-align: top;\n",
       "    }\n",
       "\n",
       "    .dataframe thead th {\n",
       "        text-align: right;\n",
       "    }\n",
       "</style>\n",
       "<table border=\"1\" class=\"dataframe\">\n",
       "  <thead>\n",
       "    <tr style=\"text-align: right;\">\n",
       "      <th></th>\n",
       "      <th>College</th>\n",
       "      <th>City</th>\n",
       "      <th>Previous CTC</th>\n",
       "      <th>Previous job change</th>\n",
       "      <th>Graduation Marks</th>\n",
       "      <th>EXP (Month)</th>\n",
       "      <th>Role_Manager</th>\n",
       "    </tr>\n",
       "  </thead>\n",
       "  <tbody>\n",
       "    <tr>\n",
       "      <th>0</th>\n",
       "      <td>2</td>\n",
       "      <td>0</td>\n",
       "      <td>55523.0</td>\n",
       "      <td>3</td>\n",
       "      <td>66</td>\n",
       "      <td>19</td>\n",
       "      <td>1</td>\n",
       "    </tr>\n",
       "    <tr>\n",
       "      <th>1</th>\n",
       "      <td>2</td>\n",
       "      <td>0</td>\n",
       "      <td>57081.0</td>\n",
       "      <td>1</td>\n",
       "      <td>84</td>\n",
       "      <td>18</td>\n",
       "      <td>0</td>\n",
       "    </tr>\n",
       "    <tr>\n",
       "      <th>2</th>\n",
       "      <td>3</td>\n",
       "      <td>0</td>\n",
       "      <td>60347.0</td>\n",
       "      <td>2</td>\n",
       "      <td>52</td>\n",
       "      <td>28</td>\n",
       "      <td>0</td>\n",
       "    </tr>\n",
       "    <tr>\n",
       "      <th>3</th>\n",
       "      <td>3</td>\n",
       "      <td>0</td>\n",
       "      <td>49010.0</td>\n",
       "      <td>2</td>\n",
       "      <td>81</td>\n",
       "      <td>33</td>\n",
       "      <td>0</td>\n",
       "    </tr>\n",
       "    <tr>\n",
       "      <th>4</th>\n",
       "      <td>1</td>\n",
       "      <td>0</td>\n",
       "      <td>57879.0</td>\n",
       "      <td>4</td>\n",
       "      <td>74</td>\n",
       "      <td>32</td>\n",
       "      <td>0</td>\n",
       "    </tr>\n",
       "    <tr>\n",
       "      <th>...</th>\n",
       "      <td>...</td>\n",
       "      <td>...</td>\n",
       "      <td>...</td>\n",
       "      <td>...</td>\n",
       "      <td>...</td>\n",
       "      <td>...</td>\n",
       "      <td>...</td>\n",
       "    </tr>\n",
       "    <tr>\n",
       "      <th>1584</th>\n",
       "      <td>1</td>\n",
       "      <td>1</td>\n",
       "      <td>61285.0</td>\n",
       "      <td>3</td>\n",
       "      <td>44</td>\n",
       "      <td>60</td>\n",
       "      <td>0</td>\n",
       "    </tr>\n",
       "    <tr>\n",
       "      <th>1585</th>\n",
       "      <td>1</td>\n",
       "      <td>0</td>\n",
       "      <td>63140.0</td>\n",
       "      <td>1</td>\n",
       "      <td>44</td>\n",
       "      <td>24</td>\n",
       "      <td>0</td>\n",
       "    </tr>\n",
       "    <tr>\n",
       "      <th>1586</th>\n",
       "      <td>1</td>\n",
       "      <td>1</td>\n",
       "      <td>44907.0</td>\n",
       "      <td>1</td>\n",
       "      <td>60</td>\n",
       "      <td>19</td>\n",
       "      <td>0</td>\n",
       "    </tr>\n",
       "    <tr>\n",
       "      <th>1587</th>\n",
       "      <td>1</td>\n",
       "      <td>0</td>\n",
       "      <td>52054.0</td>\n",
       "      <td>2</td>\n",
       "      <td>67</td>\n",
       "      <td>29</td>\n",
       "      <td>0</td>\n",
       "    </tr>\n",
       "    <tr>\n",
       "      <th>1588</th>\n",
       "      <td>2</td>\n",
       "      <td>1</td>\n",
       "      <td>44353.0</td>\n",
       "      <td>3</td>\n",
       "      <td>75</td>\n",
       "      <td>18</td>\n",
       "      <td>1</td>\n",
       "    </tr>\n",
       "  </tbody>\n",
       "</table>\n",
       "<p>1589 rows × 7 columns</p>\n",
       "</div>"
      ],
      "text/plain": [
       "      College  City  Previous CTC  Previous job change  Graduation Marks  \\\n",
       "0           2     0       55523.0                    3                66   \n",
       "1           2     0       57081.0                    1                84   \n",
       "2           3     0       60347.0                    2                52   \n",
       "3           3     0       49010.0                    2                81   \n",
       "4           1     0       57879.0                    4                74   \n",
       "...       ...   ...           ...                  ...               ...   \n",
       "1584        1     1       61285.0                    3                44   \n",
       "1585        1     0       63140.0                    1                44   \n",
       "1586        1     1       44907.0                    1                60   \n",
       "1587        1     0       52054.0                    2                67   \n",
       "1588        2     1       44353.0                    3                75   \n",
       "\n",
       "      EXP (Month)  Role_Manager  \n",
       "0              19             1  \n",
       "1              18             0  \n",
       "2              28             0  \n",
       "3              33             0  \n",
       "4              32             0  \n",
       "...           ...           ...  \n",
       "1584           60             0  \n",
       "1585           24             0  \n",
       "1586           19             0  \n",
       "1587           29             0  \n",
       "1588           18             1  \n",
       "\n",
       "[1589 rows x 7 columns]"
      ]
     },
     "execution_count": 56,
     "metadata": {},
     "output_type": "execute_result"
    }
   ],
   "source": [
    "X_multi"
   ]
  },
  {
   "cell_type": "code",
   "execution_count": 57,
   "id": "0a1c4fe3",
   "metadata": {},
   "outputs": [
    {
     "data": {
      "text/plain": [
       "0       71406.58\n",
       "1       68005.87\n",
       "2       76764.02\n",
       "3       82092.39\n",
       "4       73878.10\n",
       "          ...   \n",
       "1584    77283.59\n",
       "1585    68416.86\n",
       "1586    70186.19\n",
       "1587    73394.09\n",
       "1588    70056.31\n",
       "Name: CTC, Length: 1589, dtype: float64"
      ]
     },
     "execution_count": 57,
     "metadata": {},
     "output_type": "execute_result"
    }
   ],
   "source": [
    "y_multi"
   ]
  },
  {
   "cell_type": "code",
   "execution_count": 123,
   "id": "85fe773f",
   "metadata": {},
   "outputs": [
    {
     "data": {
      "text/plain": [
       "array([[2.000000e+00, 0.000000e+00, 5.552300e+04, ..., 1.900000e+01,\n",
       "        7.140658e+04, 1.000000e+00],\n",
       "       [2.000000e+00, 0.000000e+00, 5.708100e+04, ..., 1.800000e+01,\n",
       "        6.800587e+04, 0.000000e+00],\n",
       "       [3.000000e+00, 0.000000e+00, 6.034700e+04, ..., 2.800000e+01,\n",
       "        7.676402e+04, 0.000000e+00],\n",
       "       ...,\n",
       "       [1.000000e+00, 1.000000e+00, 4.490700e+04, ..., 1.900000e+01,\n",
       "        7.018619e+04, 0.000000e+00],\n",
       "       [1.000000e+00, 0.000000e+00, 5.205400e+04, ..., 2.900000e+01,\n",
       "        7.339409e+04, 0.000000e+00],\n",
       "       [2.000000e+00, 1.000000e+00, 4.435300e+04, ..., 1.800000e+01,\n",
       "        7.005631e+04, 1.000000e+00]])"
      ]
     },
     "execution_count": 123,
     "metadata": {},
     "output_type": "execute_result"
    }
   ],
   "source": [
    "np.asarray(data)"
   ]
  },
  {
   "cell_type": "code",
   "execution_count": 58,
   "id": "af53b597",
   "metadata": {},
   "outputs": [],
   "source": [
    "X_multi_cons = sn.add_constant(X_multi) "
   ]
  },
  {
   "cell_type": "code",
   "execution_count": 59,
   "id": "f8b557a1",
   "metadata": {},
   "outputs": [
    {
     "data": {
      "text/html": [
       "<div>\n",
       "<style scoped>\n",
       "    .dataframe tbody tr th:only-of-type {\n",
       "        vertical-align: middle;\n",
       "    }\n",
       "\n",
       "    .dataframe tbody tr th {\n",
       "        vertical-align: top;\n",
       "    }\n",
       "\n",
       "    .dataframe thead th {\n",
       "        text-align: right;\n",
       "    }\n",
       "</style>\n",
       "<table border=\"1\" class=\"dataframe\">\n",
       "  <thead>\n",
       "    <tr style=\"text-align: right;\">\n",
       "      <th></th>\n",
       "      <th>const</th>\n",
       "      <th>College</th>\n",
       "      <th>City</th>\n",
       "      <th>Previous CTC</th>\n",
       "      <th>Previous job change</th>\n",
       "      <th>Graduation Marks</th>\n",
       "      <th>EXP (Month)</th>\n",
       "      <th>Role_Manager</th>\n",
       "    </tr>\n",
       "  </thead>\n",
       "  <tbody>\n",
       "    <tr>\n",
       "      <th>0</th>\n",
       "      <td>1.0</td>\n",
       "      <td>2</td>\n",
       "      <td>0</td>\n",
       "      <td>55523.0</td>\n",
       "      <td>3</td>\n",
       "      <td>66</td>\n",
       "      <td>19</td>\n",
       "      <td>1</td>\n",
       "    </tr>\n",
       "    <tr>\n",
       "      <th>1</th>\n",
       "      <td>1.0</td>\n",
       "      <td>2</td>\n",
       "      <td>0</td>\n",
       "      <td>57081.0</td>\n",
       "      <td>1</td>\n",
       "      <td>84</td>\n",
       "      <td>18</td>\n",
       "      <td>0</td>\n",
       "    </tr>\n",
       "    <tr>\n",
       "      <th>2</th>\n",
       "      <td>1.0</td>\n",
       "      <td>3</td>\n",
       "      <td>0</td>\n",
       "      <td>60347.0</td>\n",
       "      <td>2</td>\n",
       "      <td>52</td>\n",
       "      <td>28</td>\n",
       "      <td>0</td>\n",
       "    </tr>\n",
       "    <tr>\n",
       "      <th>3</th>\n",
       "      <td>1.0</td>\n",
       "      <td>3</td>\n",
       "      <td>0</td>\n",
       "      <td>49010.0</td>\n",
       "      <td>2</td>\n",
       "      <td>81</td>\n",
       "      <td>33</td>\n",
       "      <td>0</td>\n",
       "    </tr>\n",
       "    <tr>\n",
       "      <th>4</th>\n",
       "      <td>1.0</td>\n",
       "      <td>1</td>\n",
       "      <td>0</td>\n",
       "      <td>57879.0</td>\n",
       "      <td>4</td>\n",
       "      <td>74</td>\n",
       "      <td>32</td>\n",
       "      <td>0</td>\n",
       "    </tr>\n",
       "  </tbody>\n",
       "</table>\n",
       "</div>"
      ],
      "text/plain": [
       "   const  College  City  Previous CTC  Previous job change  Graduation Marks  \\\n",
       "0    1.0        2     0       55523.0                    3                66   \n",
       "1    1.0        2     0       57081.0                    1                84   \n",
       "2    1.0        3     0       60347.0                    2                52   \n",
       "3    1.0        3     0       49010.0                    2                81   \n",
       "4    1.0        1     0       57879.0                    4                74   \n",
       "\n",
       "   EXP (Month)  Role_Manager  \n",
       "0           19             1  \n",
       "1           18             0  \n",
       "2           28             0  \n",
       "3           33             0  \n",
       "4           32             0  "
      ]
     },
     "execution_count": 59,
     "metadata": {},
     "output_type": "execute_result"
    }
   ],
   "source": [
    "X_multi_cons.head()"
   ]
  },
  {
   "cell_type": "code",
   "execution_count": 60,
   "id": "2b7bc1b9",
   "metadata": {},
   "outputs": [],
   "source": [
    "lm_multi = sn.OLS(y_multi, X_multi_cons).fit()"
   ]
  },
  {
   "cell_type": "code",
   "execution_count": 61,
   "id": "bcef679c",
   "metadata": {},
   "outputs": [
    {
     "data": {
      "text/html": [
       "<table class=\"simpletable\">\n",
       "<caption>OLS Regression Results</caption>\n",
       "<tr>\n",
       "  <th>Dep. Variable:</th>           <td>CTC</td>       <th>  R-squared:         </th> <td>   0.534</td> \n",
       "</tr>\n",
       "<tr>\n",
       "  <th>Model:</th>                   <td>OLS</td>       <th>  Adj. R-squared:    </th> <td>   0.532</td> \n",
       "</tr>\n",
       "<tr>\n",
       "  <th>Method:</th>             <td>Least Squares</td>  <th>  F-statistic:       </th> <td>   259.1</td> \n",
       "</tr>\n",
       "<tr>\n",
       "  <th>Date:</th>             <td>Sat, 27 Jan 2024</td> <th>  Prob (F-statistic):</th> <td>4.70e-257</td>\n",
       "</tr>\n",
       "<tr>\n",
       "  <th>Time:</th>                 <td>20:04:29</td>     <th>  Log-Likelihood:    </th> <td> -16648.</td> \n",
       "</tr>\n",
       "<tr>\n",
       "  <th>No. Observations:</th>      <td>  1589</td>      <th>  AIC:               </th> <td>3.331e+04</td>\n",
       "</tr>\n",
       "<tr>\n",
       "  <th>Df Residuals:</th>          <td>  1581</td>      <th>  BIC:               </th> <td>3.335e+04</td>\n",
       "</tr>\n",
       "<tr>\n",
       "  <th>Df Model:</th>              <td>     7</td>      <th>                     </th>     <td> </td>    \n",
       "</tr>\n",
       "<tr>\n",
       "  <th>Covariance Type:</th>      <td>nonrobust</td>    <th>                     </th>     <td> </td>    \n",
       "</tr>\n",
       "</table>\n",
       "<table class=\"simpletable\">\n",
       "<tr>\n",
       "           <td></td>              <th>coef</th>     <th>std err</th>      <th>t</th>      <th>P>|t|</th>  <th>[0.025</th>    <th>0.975]</th>  \n",
       "</tr>\n",
       "<tr>\n",
       "  <th>const</th>               <td> 3.842e+04</td> <td> 2192.660</td> <td>   17.523</td> <td> 0.000</td> <td> 3.41e+04</td> <td> 4.27e+04</td>\n",
       "</tr>\n",
       "<tr>\n",
       "  <th>College</th>             <td> -481.5147</td> <td>  258.382</td> <td>   -1.864</td> <td> 0.063</td> <td> -988.321</td> <td>   25.292</td>\n",
       "</tr>\n",
       "<tr>\n",
       "  <th>City</th>                <td>  380.8308</td> <td>  433.455</td> <td>    0.879</td> <td> 0.380</td> <td> -469.377</td> <td> 1231.039</td>\n",
       "</tr>\n",
       "<tr>\n",
       "  <th>Previous CTC</th>        <td>    0.4101</td> <td>    0.033</td> <td>   12.526</td> <td> 0.000</td> <td>    0.346</td> <td>    0.474</td>\n",
       "</tr>\n",
       "<tr>\n",
       "  <th>Previous job change</th> <td>  126.5653</td> <td>  192.887</td> <td>    0.656</td> <td> 0.512</td> <td> -251.776</td> <td>  504.906</td>\n",
       "</tr>\n",
       "<tr>\n",
       "  <th>Graduation Marks</th>    <td>    6.2362</td> <td>   14.502</td> <td>    0.430</td> <td> 0.667</td> <td>  -22.208</td> <td>   34.681</td>\n",
       "</tr>\n",
       "<tr>\n",
       "  <th>EXP (Month)</th>         <td>  261.3444</td> <td>   15.460</td> <td>   16.904</td> <td> 0.000</td> <td>  231.020</td> <td>  291.669</td>\n",
       "</tr>\n",
       "<tr>\n",
       "  <th>Role_Manager</th>        <td> 1.949e+04</td> <td>  534.694</td> <td>   36.446</td> <td> 0.000</td> <td> 1.84e+04</td> <td> 2.05e+04</td>\n",
       "</tr>\n",
       "</table>\n",
       "<table class=\"simpletable\">\n",
       "<tr>\n",
       "  <th>Omnibus:</th>       <td>49.726</td> <th>  Durbin-Watson:     </th> <td>   2.052</td>\n",
       "</tr>\n",
       "<tr>\n",
       "  <th>Prob(Omnibus):</th> <td> 0.000</td> <th>  Jarque-Bera (JB):  </th> <td>  55.299</td>\n",
       "</tr>\n",
       "<tr>\n",
       "  <th>Skew:</th>          <td> 0.408</td> <th>  Prob(JB):          </th> <td>9.82e-13</td>\n",
       "</tr>\n",
       "<tr>\n",
       "  <th>Kurtosis:</th>      <td> 3.411</td> <th>  Cond. No.          </th> <td>5.68e+05</td>\n",
       "</tr>\n",
       "</table><br/><br/>Notes:<br/>[1] Standard Errors assume that the covariance matrix of the errors is correctly specified.<br/>[2] The condition number is large, 5.68e+05. This might indicate that there are<br/>strong multicollinearity or other numerical problems."
      ],
      "text/plain": [
       "<class 'statsmodels.iolib.summary.Summary'>\n",
       "\"\"\"\n",
       "                            OLS Regression Results                            \n",
       "==============================================================================\n",
       "Dep. Variable:                    CTC   R-squared:                       0.534\n",
       "Model:                            OLS   Adj. R-squared:                  0.532\n",
       "Method:                 Least Squares   F-statistic:                     259.1\n",
       "Date:                Sat, 27 Jan 2024   Prob (F-statistic):          4.70e-257\n",
       "Time:                        20:04:29   Log-Likelihood:                -16648.\n",
       "No. Observations:                1589   AIC:                         3.331e+04\n",
       "Df Residuals:                    1581   BIC:                         3.335e+04\n",
       "Df Model:                           7                                         \n",
       "Covariance Type:            nonrobust                                         \n",
       "=======================================================================================\n",
       "                          coef    std err          t      P>|t|      [0.025      0.975]\n",
       "---------------------------------------------------------------------------------------\n",
       "const                3.842e+04   2192.660     17.523      0.000    3.41e+04    4.27e+04\n",
       "College              -481.5147    258.382     -1.864      0.063    -988.321      25.292\n",
       "City                  380.8308    433.455      0.879      0.380    -469.377    1231.039\n",
       "Previous CTC            0.4101      0.033     12.526      0.000       0.346       0.474\n",
       "Previous job change   126.5653    192.887      0.656      0.512    -251.776     504.906\n",
       "Graduation Marks        6.2362     14.502      0.430      0.667     -22.208      34.681\n",
       "EXP (Month)           261.3444     15.460     16.904      0.000     231.020     291.669\n",
       "Role_Manager         1.949e+04    534.694     36.446      0.000    1.84e+04    2.05e+04\n",
       "==============================================================================\n",
       "Omnibus:                       49.726   Durbin-Watson:                   2.052\n",
       "Prob(Omnibus):                  0.000   Jarque-Bera (JB):               55.299\n",
       "Skew:                           0.408   Prob(JB):                     9.82e-13\n",
       "Kurtosis:                       3.411   Cond. No.                     5.68e+05\n",
       "==============================================================================\n",
       "\n",
       "Notes:\n",
       "[1] Standard Errors assume that the covariance matrix of the errors is correctly specified.\n",
       "[2] The condition number is large, 5.68e+05. This might indicate that there are\n",
       "strong multicollinearity or other numerical problems.\n",
       "\"\"\""
      ]
     },
     "execution_count": 61,
     "metadata": {},
     "output_type": "execute_result"
    }
   ],
   "source": [
    "# Ckecking summary Using stats model\n",
    "\n",
    "lm_multi.summary()"
   ]
  },
  {
   "cell_type": "code",
   "execution_count": 62,
   "id": "4a9808ad",
   "metadata": {},
   "outputs": [],
   "source": [
    "# Ckecking Intercept and cofficient Using Linear Regression"
   ]
  },
  {
   "cell_type": "code",
   "execution_count": 72,
   "id": "e7c33c9f",
   "metadata": {},
   "outputs": [],
   "source": [
    "lm2 = LinearRegression()"
   ]
  },
  {
   "cell_type": "code",
   "execution_count": 73,
   "id": "3cb918b4",
   "metadata": {},
   "outputs": [
    {
     "data": {
      "text/plain": [
       "LinearRegression()"
      ]
     },
     "execution_count": 73,
     "metadata": {},
     "output_type": "execute_result"
    }
   ],
   "source": [
    "lm2.fit(X_multi, y_multi)"
   ]
  },
  {
   "cell_type": "code",
   "execution_count": 74,
   "id": "62297282",
   "metadata": {},
   "outputs": [
    {
     "data": {
      "text/plain": [
       "38421.10980689989"
      ]
     },
     "execution_count": 74,
     "metadata": {},
     "output_type": "execute_result"
    }
   ],
   "source": [
    "lm2.intercept_ "
   ]
  },
  {
   "cell_type": "code",
   "execution_count": 75,
   "id": "0f5d307a",
   "metadata": {},
   "outputs": [
    {
     "data": {
      "text/plain": [
       "array([-4.81514705e+02,  3.80830787e+02,  4.10090279e-01,  1.26565295e+02,\n",
       "        6.23621203e+00,  2.61344394e+02,  1.94874279e+04])"
      ]
     },
     "execution_count": 75,
     "metadata": {},
     "output_type": "execute_result"
    }
   ],
   "source": [
    "lm2.coef_"
   ]
  },
  {
   "cell_type": "code",
   "execution_count": 76,
   "id": "a2e51546",
   "metadata": {},
   "outputs": [
    {
     "name": "stdout",
     "output_type": "stream",
     "text": [
      "38421.10980689989 [-4.81514705e+02  3.80830787e+02  4.10090279e-01  1.26565295e+02\n",
      "  6.23621203e+00  2.61344394e+02  1.94874279e+04]\n"
     ]
    }
   ],
   "source": [
    "print(lm2.intercept_, lm2.coef_)"
   ]
  },
  {
   "cell_type": "code",
   "execution_count": 77,
   "id": "8a004bc9",
   "metadata": {},
   "outputs": [
    {
     "data": {
      "text/html": [
       "<div>\n",
       "<style scoped>\n",
       "    .dataframe tbody tr th:only-of-type {\n",
       "        vertical-align: middle;\n",
       "    }\n",
       "\n",
       "    .dataframe tbody tr th {\n",
       "        vertical-align: top;\n",
       "    }\n",
       "\n",
       "    .dataframe thead th {\n",
       "        text-align: right;\n",
       "    }\n",
       "</style>\n",
       "<table border=\"1\" class=\"dataframe\">\n",
       "  <thead>\n",
       "    <tr style=\"text-align: right;\">\n",
       "      <th></th>\n",
       "      <th>College</th>\n",
       "      <th>City</th>\n",
       "      <th>Previous CTC</th>\n",
       "      <th>Previous job change</th>\n",
       "      <th>Graduation Marks</th>\n",
       "      <th>EXP (Month)</th>\n",
       "      <th>CTC</th>\n",
       "      <th>Role_Manager</th>\n",
       "    </tr>\n",
       "  </thead>\n",
       "  <tbody>\n",
       "    <tr>\n",
       "      <th>0</th>\n",
       "      <td>2</td>\n",
       "      <td>0</td>\n",
       "      <td>55523.0</td>\n",
       "      <td>3</td>\n",
       "      <td>66</td>\n",
       "      <td>19</td>\n",
       "      <td>71406.58</td>\n",
       "      <td>1</td>\n",
       "    </tr>\n",
       "    <tr>\n",
       "      <th>1</th>\n",
       "      <td>2</td>\n",
       "      <td>0</td>\n",
       "      <td>57081.0</td>\n",
       "      <td>1</td>\n",
       "      <td>84</td>\n",
       "      <td>18</td>\n",
       "      <td>68005.87</td>\n",
       "      <td>0</td>\n",
       "    </tr>\n",
       "    <tr>\n",
       "      <th>2</th>\n",
       "      <td>3</td>\n",
       "      <td>0</td>\n",
       "      <td>60347.0</td>\n",
       "      <td>2</td>\n",
       "      <td>52</td>\n",
       "      <td>28</td>\n",
       "      <td>76764.02</td>\n",
       "      <td>0</td>\n",
       "    </tr>\n",
       "    <tr>\n",
       "      <th>3</th>\n",
       "      <td>3</td>\n",
       "      <td>0</td>\n",
       "      <td>49010.0</td>\n",
       "      <td>2</td>\n",
       "      <td>81</td>\n",
       "      <td>33</td>\n",
       "      <td>82092.39</td>\n",
       "      <td>0</td>\n",
       "    </tr>\n",
       "    <tr>\n",
       "      <th>4</th>\n",
       "      <td>1</td>\n",
       "      <td>0</td>\n",
       "      <td>57879.0</td>\n",
       "      <td>4</td>\n",
       "      <td>74</td>\n",
       "      <td>32</td>\n",
       "      <td>73878.10</td>\n",
       "      <td>0</td>\n",
       "    </tr>\n",
       "  </tbody>\n",
       "</table>\n",
       "</div>"
      ],
      "text/plain": [
       "   College  City  Previous CTC  Previous job change  Graduation Marks  \\\n",
       "0        2     0       55523.0                    3                66   \n",
       "1        2     0       57081.0                    1                84   \n",
       "2        3     0       60347.0                    2                52   \n",
       "3        3     0       49010.0                    2                81   \n",
       "4        1     0       57879.0                    4                74   \n",
       "\n",
       "   EXP (Month)       CTC  Role_Manager  \n",
       "0           19  71406.58             1  \n",
       "1           18  68005.87             0  \n",
       "2           28  76764.02             0  \n",
       "3           33  82092.39             0  \n",
       "4           32  73878.10             0  "
      ]
     },
     "execution_count": 77,
     "metadata": {},
     "output_type": "execute_result"
    }
   ],
   "source": [
    "data.head()"
   ]
  },
  {
   "cell_type": "code",
   "execution_count": 78,
   "id": "65e2a65c",
   "metadata": {},
   "outputs": [
    {
     "name": "stdout",
     "output_type": "stream",
     "text": [
      "<class 'pandas.core.frame.DataFrame'>\n",
      "RangeIndex: 1589 entries, 0 to 1588\n",
      "Data columns (total 8 columns):\n",
      " #   Column               Non-Null Count  Dtype  \n",
      "---  ------               --------------  -----  \n",
      " 0   College              1589 non-null   int64  \n",
      " 1   City                 1589 non-null   int64  \n",
      " 2   Previous CTC         1589 non-null   float64\n",
      " 3   Previous job change  1589 non-null   int64  \n",
      " 4   Graduation Marks     1589 non-null   int64  \n",
      " 5   EXP (Month)          1589 non-null   int64  \n",
      " 6   CTC                  1589 non-null   float64\n",
      " 7   Role_Manager         1589 non-null   int64  \n",
      "dtypes: float64(2), int64(6)\n",
      "memory usage: 99.4 KB\n"
     ]
    }
   ],
   "source": [
    "data.info()"
   ]
  },
  {
   "cell_type": "code",
   "execution_count": 79,
   "id": "f1fb362e",
   "metadata": {},
   "outputs": [],
   "source": [
    "from sklearn.model_selection import train_test_split"
   ]
  },
  {
   "cell_type": "code",
   "execution_count": 80,
   "id": "553ec487",
   "metadata": {},
   "outputs": [],
   "source": [
    "X_train, X_test, y_train, y_test = train_test_split(X_multi, y_multi,test_size=0.2,random_state=0)"
   ]
  },
  {
   "cell_type": "code",
   "execution_count": 81,
   "id": "d9ef558d",
   "metadata": {},
   "outputs": [
    {
     "name": "stdout",
     "output_type": "stream",
     "text": [
      "(1271, 7) (318, 7) (1271,) (318,)\n"
     ]
    }
   ],
   "source": [
    "print(X_train.shape, X_test.shape, y_train.shape, y_test.shape)"
   ]
  },
  {
   "cell_type": "markdown",
   "id": "ad16060a",
   "metadata": {},
   "source": [
    "# After traning on Linear Regression  Checking model performance"
   ]
  },
  {
   "cell_type": "code",
   "execution_count": 82,
   "id": "871b4b73",
   "metadata": {},
   "outputs": [],
   "source": [
    "ln_a=LinearRegression()"
   ]
  },
  {
   "cell_type": "code",
   "execution_count": 83,
   "id": "d22ce20e",
   "metadata": {},
   "outputs": [
    {
     "data": {
      "text/plain": [
       "LinearRegression()"
      ]
     },
     "execution_count": 83,
     "metadata": {},
     "output_type": "execute_result"
    }
   ],
   "source": [
    "ln_a.fit(X_train,y_train)"
   ]
  },
  {
   "cell_type": "code",
   "execution_count": 84,
   "id": "b3394deb",
   "metadata": {},
   "outputs": [],
   "source": [
    "y_test_a=ln_a.predict(X_test)\n",
    "y_train_a=ln_a.predict(X_train)"
   ]
  },
  {
   "cell_type": "code",
   "execution_count": 85,
   "id": "d6f81f6e",
   "metadata": {},
   "outputs": [],
   "source": [
    "from sklearn.metrics import r2_score"
   ]
  },
  {
   "cell_type": "code",
   "execution_count": 86,
   "id": "1b64478a",
   "metadata": {},
   "outputs": [
    {
     "data": {
      "text/plain": [
       "0.5331293335456955"
      ]
     },
     "execution_count": 86,
     "metadata": {},
     "output_type": "execute_result"
    }
   ],
   "source": [
    "r2_score(y_train, y_train_a)"
   ]
  },
  {
   "cell_type": "code",
   "execution_count": 87,
   "id": "8e21904d",
   "metadata": {},
   "outputs": [
    {
     "data": {
      "text/plain": [
       "0.5355989894790061"
      ]
     },
     "execution_count": 87,
     "metadata": {},
     "output_type": "execute_result"
    }
   ],
   "source": [
    "r2_score(y_test, y_test_a)"
   ]
  },
  {
   "cell_type": "code",
   "execution_count": 88,
   "id": "e0f21b24",
   "metadata": {},
   "outputs": [],
   "source": [
    "from sklearn import preprocessing\n",
    "scaler = preprocessing.StandardScaler().fit(X_train)\n",
    "X_train_s = scaler.transform(X_train)\n",
    "X_test_s = scaler.transform(X_test)"
   ]
  },
  {
   "cell_type": "markdown",
   "id": "bb93a355",
   "metadata": {},
   "source": [
    "# Checking Ridge model performance"
   ]
  },
  {
   "cell_type": "code",
   "execution_count": 89,
   "id": "bd5866c3",
   "metadata": {},
   "outputs": [],
   "source": [
    "from sklearn.linear_model import Ridge"
   ]
  },
  {
   "cell_type": "code",
   "execution_count": 90,
   "id": "c981af6a",
   "metadata": {},
   "outputs": [],
   "source": [
    "lm_r = Ridge(alpha = 0.5)"
   ]
  },
  {
   "cell_type": "code",
   "execution_count": 91,
   "id": "c3f3eece",
   "metadata": {},
   "outputs": [
    {
     "data": {
      "text/plain": [
       "Ridge(alpha=0.5)"
      ]
     },
     "execution_count": 91,
     "metadata": {},
     "output_type": "execute_result"
    }
   ],
   "source": [
    "lm_r.fit(X_train_s,y_train)"
   ]
  },
  {
   "cell_type": "code",
   "execution_count": 92,
   "id": "c338e7a5",
   "metadata": {},
   "outputs": [
    {
     "data": {
      "text/plain": [
       "0.5355848845406526"
      ]
     },
     "execution_count": 92,
     "metadata": {},
     "output_type": "execute_result"
    }
   ],
   "source": [
    "r2_score(y_test, lm_r.predict(X_test_s))"
   ]
  },
  {
   "cell_type": "code",
   "execution_count": 93,
   "id": "99531ad9",
   "metadata": {},
   "outputs": [],
   "source": [
    "# To improve  model performance\n",
    "\n",
    "from sklearn.model_selection import validation_curve"
   ]
  },
  {
   "cell_type": "code",
   "execution_count": 94,
   "id": "178207ce",
   "metadata": {},
   "outputs": [],
   "source": [
    "param_range = np.logspace(-2,8,100)"
   ]
  },
  {
   "cell_type": "code",
   "execution_count": 95,
   "id": "708c129d",
   "metadata": {},
   "outputs": [],
   "source": [
    "# to take help from \"validation_curve?\"\"\n",
    "\n",
    "train_scores, test_scores = validation_curve(Ridge(), X_train_s, y_train, param_name=\"alpha\", param_range=param_range, scoring='r2')"
   ]
  },
  {
   "cell_type": "code",
   "execution_count": 96,
   "id": "bb7255a4",
   "metadata": {},
   "outputs": [
    {
     "name": "stdout",
     "output_type": "stream",
     "text": [
      "[[5.26336205e-01 5.33395314e-01 5.39739989e-01 5.37993452e-01\n",
      "  5.30456031e-01]\n",
      " [5.26336205e-01 5.33395314e-01 5.39739989e-01 5.37993452e-01\n",
      "  5.30456031e-01]\n",
      " [5.26336205e-01 5.33395314e-01 5.39739989e-01 5.37993452e-01\n",
      "  5.30456031e-01]\n",
      " [5.26336205e-01 5.33395313e-01 5.39739989e-01 5.37993452e-01\n",
      "  5.30456031e-01]\n",
      " [5.26336205e-01 5.33395313e-01 5.39739989e-01 5.37993451e-01\n",
      "  5.30456031e-01]\n",
      " [5.26336205e-01 5.33395313e-01 5.39739989e-01 5.37993451e-01\n",
      "  5.30456030e-01]\n",
      " [5.26336204e-01 5.33395313e-01 5.39739988e-01 5.37993451e-01\n",
      "  5.30456030e-01]\n",
      " [5.26336204e-01 5.33395312e-01 5.39739988e-01 5.37993450e-01\n",
      "  5.30456030e-01]\n",
      " [5.26336203e-01 5.33395312e-01 5.39739987e-01 5.37993450e-01\n",
      "  5.30456029e-01]\n",
      " [5.26336202e-01 5.33395311e-01 5.39739986e-01 5.37993448e-01\n",
      "  5.30456028e-01]\n",
      " [5.26336200e-01 5.33395309e-01 5.39739984e-01 5.37993446e-01\n",
      "  5.30456026e-01]\n",
      " [5.26336197e-01 5.33395306e-01 5.39739981e-01 5.37993443e-01\n",
      "  5.30456022e-01]\n",
      " [5.26336192e-01 5.33395301e-01 5.39739977e-01 5.37993438e-01\n",
      "  5.30456017e-01]\n",
      " [5.26336185e-01 5.33395294e-01 5.39739970e-01 5.37993430e-01\n",
      "  5.30456009e-01]\n",
      " [5.26336172e-01 5.33395283e-01 5.39739958e-01 5.37993417e-01\n",
      "  5.30455997e-01]\n",
      " [5.26336153e-01 5.33395264e-01 5.39739940e-01 5.37993397e-01\n",
      "  5.30455976e-01]\n",
      " [5.26336122e-01 5.33395235e-01 5.39739911e-01 5.37993365e-01\n",
      "  5.30455944e-01]\n",
      " [5.26336072e-01 5.33395188e-01 5.39739864e-01 5.37993313e-01\n",
      "  5.30455893e-01]\n",
      " [5.26335993e-01 5.33395114e-01 5.39739790e-01 5.37993231e-01\n",
      "  5.30455811e-01]\n",
      " [5.26335868e-01 5.33394996e-01 5.39739672e-01 5.37993101e-01\n",
      "  5.30455681e-01]\n",
      " [5.26335669e-01 5.33394807e-01 5.39739485e-01 5.37992893e-01\n",
      "  5.30455473e-01]\n",
      " [5.26335352e-01 5.33394508e-01 5.39739187e-01 5.37992563e-01\n",
      "  5.30455144e-01]\n",
      " [5.26334847e-01 5.33394032e-01 5.39738713e-01 5.37992037e-01\n",
      "  5.30454619e-01]\n",
      " [5.26334044e-01 5.33393274e-01 5.39737958e-01 5.37991202e-01\n",
      "  5.30453785e-01]\n",
      " [5.26332768e-01 5.33392070e-01 5.39736759e-01 5.37989873e-01\n",
      "  5.30452458e-01]\n",
      " [5.26330740e-01 5.33390155e-01 5.39734852e-01 5.37987761e-01\n",
      "  5.30450350e-01]\n",
      " [5.26327518e-01 5.33387113e-01 5.39731823e-01 5.37984406e-01\n",
      "  5.30447001e-01]\n",
      " [5.26322402e-01 5.33382283e-01 5.39727013e-01 5.37979080e-01\n",
      "  5.30441685e-01]\n",
      " [5.26314286e-01 5.33374619e-01 5.39719381e-01 5.37970630e-01\n",
      "  5.30433251e-01]\n",
      " [5.26301423e-01 5.33362470e-01 5.39707283e-01 5.37957237e-01\n",
      "  5.30419885e-01]\n",
      " [5.26281059e-01 5.33343233e-01 5.39688126e-01 5.37936038e-01\n",
      "  5.30398730e-01]\n",
      " [5.26248869e-01 5.33312818e-01 5.39657835e-01 5.37902530e-01\n",
      "  5.30365296e-01]\n",
      " [5.26198082e-01 5.33264817e-01 5.39610028e-01 5.37849669e-01\n",
      "  5.30312559e-01]\n",
      " [5.26118143e-01 5.33189235e-01 5.39534744e-01 5.37766476e-01\n",
      "  5.30229577e-01]\n",
      " [5.25992688e-01 5.33070562e-01 5.39416529e-01 5.37635936e-01\n",
      "  5.30099397e-01]\n",
      " [5.25796529e-01 5.32884898e-01 5.39231561e-01 5.37431868e-01\n",
      "  5.29895948e-01]\n",
      " [5.25491223e-01 5.32595719e-01 5.38943421e-01 5.37114332e-01\n",
      "  5.29579485e-01]\n",
      " [5.25018748e-01 5.32147795e-01 5.38497028e-01 5.36623084e-01\n",
      "  5.29090102e-01]\n",
      " [5.24292717e-01 5.31458723e-01 5.37810155e-01 5.35868495e-01\n",
      "  5.28338761e-01]\n",
      " [5.23186721e-01 5.30407585e-01 5.36762080e-01 5.34719534e-01\n",
      "  5.27195442e-01]\n",
      " [5.21519741e-01 5.28820626e-01 5.35179200e-01 5.32988778e-01\n",
      "  5.25474425e-01]\n",
      " [5.19039500e-01 5.26454629e-01 5.32818294e-01 5.30415401e-01\n",
      "  5.22917676e-01]\n",
      " [5.15406222e-01 5.22980199e-01 5.29349571e-01 5.26648733e-01\n",
      "  5.19178930e-01]\n",
      " [5.10181630e-01 5.17969432e-01 5.24343967e-01 5.21237447e-01\n",
      "  5.13813496e-01]\n",
      " [5.02830832e-01 5.10895265e-01 5.17271940e-01 5.13632251e-01\n",
      "  5.06281480e-01]\n",
      " [4.92746763e-01 5.01152073e-01 5.07523374e-01 5.03211982e-01\n",
      "  4.95974001e-01]\n",
      " [4.79306125e-01 4.88106913e-01 4.94458153e-01 4.89342024e-01\n",
      "  4.82270906e-01]\n",
      " [4.61959901e-01 4.71185791e-01 4.77492078e-01 4.71467782e-01\n",
      "  4.64632272e-01]\n",
      " [4.40349507e-01 4.49988116e-01 4.56211739e-01 4.49233489e-01\n",
      "  4.42713977e-01]\n",
      " [4.14424295e-01 4.24407225e-01 4.30496549e-01 4.22601087e-01\n",
      "  4.16482731e-01]\n",
      " [3.84524713e-01 3.94722163e-01 4.00613144e-01 3.91932716e-01\n",
      "  3.86295453e-01]\n",
      " [3.51396852e-01 3.61624912e-01 3.67245789e-01 3.58002484e-01\n",
      "  3.52910162e-01]\n",
      " [3.16122380e-01 3.26163126e-01 3.31441798e-01 3.21922278e-01\n",
      "  3.17413925e-01]\n",
      " [2.79976756e-01 2.89606577e-01 2.94479116e-01 2.84995743e-01\n",
      "  2.81081395e-01]\n",
      " [2.44253838e-01 2.53272484e-01 2.57690690e-01 2.48539672e-01\n",
      "  2.45201546e-01]\n",
      " [2.10103689e-01 2.18356769e-01 2.22292992e-01 2.13720171e-01\n",
      "  2.10918130e-01]\n",
      " [1.78419780e-01 1.85810470e-01 1.89258887e-01 1.81439730e-01\n",
      "  1.79118946e-01]\n",
      " [1.49790091e-01 1.56279742e-01 1.59254374e-01 1.52289230e-01\n",
      "  1.50387897e-01]\n",
      " [1.24505616e-01 1.30105939e-01 1.32636464e-01 1.26557884e-01\n",
      "  1.25013537e-01]\n",
      " [1.02607520e-01 1.07368236e-01 1.09494879e-01 1.04281899e-01\n",
      "  1.03035765e-01]\n",
      " [8.39518302e-02 8.79473309e-02 8.97159119e-02 8.53104990e-02\n",
      "  8.43099555e-02]\n",
      " [6.82748518e-02 7.15922928e-02 7.30500946e-02 6.93723857e-02\n",
      "  6.85719496e-02]\n",
      " [5.52491849e-02 5.79791823e-02 5.91719281e-02 5.61324965e-02\n",
      "  5.54938347e-02]\n",
      " [4.45262404e-02 4.67564031e-02 4.77263105e-02 4.52349943e-02\n",
      "  4.47263764e-02]\n",
      " [3.57652279e-02 3.75761987e-02 3.83609375e-02 3.63325224e-02\n",
      "  3.59280173e-02]\n",
      " [2.86507259e-02 3.01141739e-02 3.07464957e-02 2.91038919e-02\n",
      "  2.87824987e-02]\n",
      " [2.29016420e-02 2.40796278e-02 2.45874455e-02 2.32630597e-02\n",
      "  2.30078778e-02]\n",
      " [1.82742439e-02 1.92194637e-02 1.96262006e-02 1.85621174e-02\n",
      "  1.83596067e-02]\n",
      " [1.45614533e-02 1.53179846e-02 1.56430599e-02 1.47905114e-02\n",
      "  1.46298575e-02]\n",
      " [1.15900251e-02 1.21943105e-02 1.24536716e-02 1.17721340e-02\n",
      "  1.16447187e-02]\n",
      " [9.21672185e-03 9.69862027e-03 9.90526599e-03 9.36140922e-03\n",
      "  9.26037480e-03]\n",
      " [7.32419269e-03 7.70799661e-03 7.87246025e-03 7.43908792e-03\n",
      "  7.35898361e-03]\n",
      " [5.81697542e-03 6.12233941e-03 6.25311671e-03 5.90817479e-03\n",
      "  5.84467144e-03]\n",
      " [4.61784354e-03 4.86060061e-03 4.96451878e-03 4.69021000e-03\n",
      "  4.63987119e-03]\n",
      " [3.66459392e-03 3.85745487e-03 3.93998440e-03 3.72200135e-03\n",
      "  3.68210041e-03]\n",
      " [2.90729515e-03 3.06043666e-03 3.12595089e-03 2.95282620e-03\n",
      "  2.92120027e-03]\n",
      " [2.30597421e-03 2.42752672e-03 2.47951551e-03 2.34207984e-03\n",
      "  2.31701366e-03]\n",
      " [1.82869822e-03 1.92514639e-03 1.96639058e-03 1.85732581e-03\n",
      "  1.83745933e-03]\n",
      " [1.44999991e-03 1.52650884e-03 1.55922182e-03 1.47269590e-03\n",
      "  1.45695082e-03]\n",
      " [1.14959535e-03 1.21027479e-03 1.23621666e-03 1.16758726e-03\n",
      "  1.15510880e-03]\n",
      " [9.11345882e-04 9.59463113e-04 9.80032531e-04 9.25607761e-04\n",
      "  9.15718315e-04]\n",
      " [7.22421593e-04 7.60572413e-04 7.76880197e-04 7.33726149e-04\n",
      "  7.25888634e-04]\n",
      " [5.72629632e-04 6.02875281e-04 6.15803238e-04 5.81589720e-04\n",
      "  5.75378438e-04]\n",
      " [4.53876386e-04 4.77852944e-04 4.88100843e-04 4.60977995e-04\n",
      "  4.56055543e-04]\n",
      " [3.59737768e-04 3.78743429e-04 3.86866419e-04 3.65366232e-04\n",
      "  3.61465200e-04]\n",
      " [2.85116491e-04 3.00181073e-04 3.06619474e-04 2.89577305e-04\n",
      "  2.86485758e-04]\n",
      " [2.25969078e-04 2.37909336e-04 2.43012332e-04 2.29504418e-04\n",
      "  2.27054391e-04]\n",
      " [1.79088648e-04 1.88552251e-04 1.92596711e-04 1.81890484e-04\n",
      "  1.79948861e-04]\n",
      " [1.41932240e-04 1.49432707e-04 1.52638138e-04 1.44152734e-04\n",
      "  1.42614020e-04]\n",
      " [1.12483614e-04 1.18428061e-04 1.20968476e-04 1.14243373e-04\n",
      "  1.13023961e-04]\n",
      " [8.91443185e-05 9.38554766e-05 9.58688170e-05 9.05389313e-05\n",
      "  8.95725641e-05]\n",
      " [7.06472182e-05 7.43809098e-05 7.59765134e-05 7.17524466e-05\n",
      "  7.09866143e-05]\n",
      " [5.59878869e-05 5.89468862e-05 6.02114162e-05 5.68637751e-05\n",
      "  5.62568643e-05]\n",
      " [4.43701806e-05 4.67152078e-05 4.77173520e-05 4.50643155e-05\n",
      "  4.45833481e-05]\n",
      " [3.51630727e-05 3.70215110e-05 3.78157095e-05 3.57131681e-05\n",
      "  3.53320089e-05]\n",
      " [2.78664247e-05 2.93392333e-05 2.99686322e-05 2.83023693e-05\n",
      "  2.80003067e-05]\n",
      " [2.20838478e-05 2.32510409e-05 2.37498352e-05 2.24293285e-05\n",
      "  2.21899488e-05]\n",
      " [1.75011865e-05 1.84261781e-05 1.88214681e-05 1.77749754e-05\n",
      "  1.75852709e-05]\n",
      " [1.38694631e-05 1.46025100e-05 1.49157731e-05 1.40864369e-05\n",
      "  1.39360993e-05]\n",
      " [1.09913576e-05 1.15722891e-05 1.18205463e-05 1.11633062e-05\n",
      "  1.10441661e-05]] [[ 5.56151202e-01  5.28022044e-01  4.98881362e-01  5.14523692e-01\n",
      "   5.31514446e-01]\n",
      " [ 5.56151274e-01  5.28022057e-01  4.98881330e-01  5.14523665e-01\n",
      "   5.31514480e-01]\n",
      " [ 5.56151365e-01  5.28022073e-01  4.98881289e-01  5.14523632e-01\n",
      "   5.31514524e-01]\n",
      " [ 5.56151480e-01  5.28022093e-01  4.98881239e-01  5.14523589e-01\n",
      "   5.31514578e-01]\n",
      " [ 5.56151625e-01  5.28022118e-01  4.98881175e-01  5.14523535e-01\n",
      "   5.31514647e-01]\n",
      " [ 5.56151808e-01  5.28022149e-01  4.98881094e-01  5.14523467e-01\n",
      "   5.31514733e-01]\n",
      " [ 5.56152039e-01  5.28022189e-01  4.98880991e-01  5.14523381e-01\n",
      "   5.31514842e-01]\n",
      " [ 5.56152331e-01  5.28022239e-01  4.98880862e-01  5.14523273e-01\n",
      "   5.31514980e-01]\n",
      " [ 5.56152698e-01  5.28022302e-01  4.98880700e-01  5.14523136e-01\n",
      "   5.31515153e-01]\n",
      " [ 5.56153161e-01  5.28022382e-01  4.98880494e-01  5.14522963e-01\n",
      "   5.31515372e-01]\n",
      " [ 5.56153745e-01  5.28022482e-01  4.98880234e-01  5.14522744e-01\n",
      "   5.31515647e-01]\n",
      " [ 5.56154481e-01  5.28022607e-01  4.98879905e-01  5.14522468e-01\n",
      "   5.31515994e-01]\n",
      " [ 5.56155409e-01  5.28022764e-01  4.98879490e-01  5.14522118e-01\n",
      "   5.31516430e-01]\n",
      " [ 5.56156578e-01  5.28022961e-01  4.98878964e-01  5.14521675e-01\n",
      "   5.31516979e-01]\n",
      " [ 5.56158050e-01  5.28023207e-01  4.98878299e-01  5.14521114e-01\n",
      "   5.31517668e-01]\n",
      " [ 5.56159903e-01  5.28023514e-01  4.98877455e-01  5.14520401e-01\n",
      "   5.31518534e-01]\n",
      " [ 5.56162234e-01  5.28023895e-01  4.98876386e-01  5.14519496e-01\n",
      "   5.31519618e-01]\n",
      " [ 5.56165163e-01  5.28024366e-01  4.98875028e-01  5.14518344e-01\n",
      "   5.31520974e-01]\n",
      " [ 5.56168840e-01  5.28024944e-01  4.98873301e-01  5.14516875e-01\n",
      "   5.31522666e-01]\n",
      " [ 5.56173450e-01  5.28025649e-01  4.98871100e-01  5.14514997e-01\n",
      "   5.31524771e-01]\n",
      " [ 5.56179219e-01  5.28026499e-01  4.98868287e-01  5.14512587e-01\n",
      "   5.31527379e-01]\n",
      " [ 5.56186423e-01  5.28027508e-01  4.98864683e-01  5.14509483e-01\n",
      "   5.31530592e-01]\n",
      " [ 5.56195393e-01  5.28028682e-01  4.98860047e-01  5.14505467e-01\n",
      "   5.31534525e-01]\n",
      " [ 5.56206519e-01  5.28030005e-01  4.98854058e-01  5.14500241e-01\n",
      "   5.31539294e-01]\n",
      " [ 5.56220253e-01  5.28031421e-01  4.98846278e-01  5.14493394e-01\n",
      "   5.31545004e-01]\n",
      " [ 5.56237099e-01  5.28032808e-01  4.98836109e-01  5.14484356e-01\n",
      "   5.31551719e-01]\n",
      " [ 5.56257588e-01  5.28033923e-01  4.98822720e-01  5.14472317e-01\n",
      "   5.31559417e-01]\n",
      " [ 5.56282226e-01  5.28034323e-01  4.98804940e-01  5.14456122e-01\n",
      "   5.31567903e-01]\n",
      " [ 5.56311389e-01  5.28033236e-01  4.98781105e-01  5.14434100e-01\n",
      "   5.31576668e-01]\n",
      " [ 5.56345146e-01  5.28029348e-01  4.98748820e-01  5.14403807e-01\n",
      "   5.31584662e-01]\n",
      " [ 5.56382950e-01  5.28020478e-01  4.98704598e-01  5.14361634e-01\n",
      "   5.31589919e-01]\n",
      " [ 5.56423116e-01  5.28003051e-01  4.98643322e-01  5.14302220e-01\n",
      "   5.31588964e-01]\n",
      " [ 5.56461993e-01  5.27971291e-01  4.98557424e-01  5.14217544e-01\n",
      "   5.31575883e-01]\n",
      " [ 5.56492629e-01  5.27915972e-01  4.98435655e-01  5.14095573e-01\n",
      "   5.31540872e-01]\n",
      " [ 5.56502704e-01  5.27822506e-01  4.98261240e-01  5.13918229e-01\n",
      "   5.31468025e-01]\n",
      " [ 5.56471358e-01  5.27668082e-01  4.98009161e-01  5.13658389e-01\n",
      "   5.31331998e-01]\n",
      " [ 5.56364465e-01  5.27417439e-01  4.97642189e-01  5.13275526e-01\n",
      "   5.31093117e-01]\n",
      " [ 5.56127762e-01  5.27016775e-01  4.97105231e-01  5.12709514e-01\n",
      "   5.30690341e-01]\n",
      " [ 5.55677186e-01  5.26385237e-01  4.96317499e-01  5.11872103e-01\n",
      "   5.30031527e-01]\n",
      " [ 5.54885886e-01  5.25403502e-01  4.95162078e-01  5.10635672e-01\n",
      "   5.28980530e-01]\n",
      " [ 5.53567765e-01  5.23899307e-01  4.93472801e-01  5.08819288e-01\n",
      "   5.27341186e-01]\n",
      " [ 5.51458409e-01  5.21630608e-01  4.91019082e-01  5.06172961e-01\n",
      "   5.24839242e-01]\n",
      " [ 5.48196000e-01  5.18268547e-01  4.87490728e-01  5.02362601e-01\n",
      "   5.21105151e-01]\n",
      " [ 5.43307496e-01  5.13384729e-01  4.82486868e-01  4.96960399e-01\n",
      "   5.15663212e-01]\n",
      " [ 5.36208526e-01  5.06450131e-01  4.75515673e-01  4.89448066e-01\n",
      "   5.07935506e-01]\n",
      " [ 5.26227858e-01  4.96855309e-01  4.66013669e-01  4.79242106e-01\n",
      "   4.97270938e-01]\n",
      " [ 5.12666786e-01  4.83961436e-01  4.53393316e-01  4.65749428e-01\n",
      "   4.83008342e-01]\n",
      " [ 4.94897468e-01  4.67186726e-01  4.37122931e-01  4.48455632e-01\n",
      "   4.64575608e-01]\n",
      " [ 4.72491158e-01  4.46121561e-01  4.16832829e-01  4.27036652e-01\n",
      "   4.41613645e-01]\n",
      " [ 4.45350092e-01  4.20650175e-01  3.92427361e-01  4.01469878e-01\n",
      "   4.14098058e-01]\n",
      " [ 4.13803631e-01  3.91043933e-01  3.64170714e-01  3.72110484e-01\n",
      "   3.82420825e-01]\n",
      " [ 3.78630035e-01  3.57989977e-01  3.32713099e-01  3.39700894e-01\n",
      "   3.47397666e-01]\n",
      " [ 3.40984815e-01  3.22534869e-01  2.99038345e-01  3.05299426e-01\n",
      "   3.10187270e-01]\n",
      " [ 3.02248391e-01  2.85951132e-01  2.64339942e-01  2.70141730e-01\n",
      "   2.72138552e-01]\n",
      " [ 2.63834218e-01  2.49561840e-01  2.29857868e-01  2.35472214e-01\n",
      "   2.34606869e-01]\n",
      " [ 2.27008996e-01  2.14570596e-01  1.96720033e-01  2.02389985e-01\n",
      "   1.98787305e-01]\n",
      " [ 1.92765664e-01  1.81936547e-01  1.65825360e-01  1.71743187e-01\n",
      "   1.65601048e-01]\n",
      " [ 1.61766182e-01  1.52313224e-01  1.37786258e-01  1.44084667e-01\n",
      "   1.35648268e-01]\n",
      " [ 1.34347852e-01  1.26047915e-01  1.12927698e-01  1.19682167e-01\n",
      "   1.09219789e-01]\n",
      " [ 1.10572966e-01  1.03224021e-01  9.13266718e-02  9.85648204e-02\n",
      "   8.63477800e-02]\n",
      " [ 9.02986222e-02  8.37248469e-02  7.28719156e-02  8.05857988e-02\n",
      "   6.68737257e-02]\n",
      " [ 7.32480710e-02  6.73007222e-02  5.73269348e-02  6.54851718e-02\n",
      "   5.05165335e-02]\n",
      " [ 5.90722157e-02  5.36279760e-02  4.43854821e-02  5.29434937e-02\n",
      "   3.69305626e-02]\n",
      " [ 4.73965372e-02  4.23546191e-02  3.37145989e-02  4.26223216e-02\n",
      "   2.57495051e-02]\n",
      " [ 3.78532675e-02  3.31321147e-02  2.49845899e-02  3.41917409e-02\n",
      "   1.66162058e-02]\n",
      " [ 3.01010329e-02  2.56351033e-02  1.78876558e-02  2.73469691e-02\n",
      "   9.20066038e-03]\n",
      " [ 2.38350067e-02  1.95718736e-02  1.21477973e-02  2.18167452e-02\n",
      "   3.20911903e-03]\n",
      " [ 1.87904974e-02  1.46883575e-02  7.52460294e-03  1.73660779e-02\n",
      "  -1.61291962e-03]\n",
      " [ 1.47423819e-02  1.07679725e-02  3.81311059e-03  1.37954512e-02\n",
      "  -5.48155691e-03]\n",
      " [ 1.15021686e-02  7.62905956e-03  8.41392266e-04  1.09380307e-02\n",
      "  -8.57750903e-03]\n",
      " [ 8.91391971e-03  5.12112927e-03 -1.53299083e-03  8.65593252e-03\n",
      "  -1.10501423e-02]\n",
      " [ 6.84982008e-03  3.12070155e-03 -3.42692050e-03  6.83622481e-03\n",
      "  -1.30217990e-02]\n",
      " [ 5.20585748e-03  1.52720881e-03 -4.93559531e-03  5.38706112e-03\n",
      "  -1.45919830e-02]\n",
      " [ 3.89786504e-03  2.59218691e-04 -6.13610340e-03  4.23415304e-03\n",
      "  -1.58411789e-02]\n",
      " [ 2.85803456e-03 -7.48907528e-04 -7.09058394e-03  3.31767217e-03\n",
      "  -1.68342068e-02]\n",
      " [ 2.03192598e-03 -1.54988934e-03 -7.84894701e-03  2.58959850e-03\n",
      "  -1.76230945e-02]\n",
      " [ 1.37595099e-03 -2.18595088e-03 -8.45116752e-03  2.01149247e-03\n",
      "  -1.82494901e-02]\n",
      " [ 8.55284864e-04 -2.69083543e-03 -8.92919183e-03  1.55264822e-03\n",
      "  -1.87466632e-02]\n",
      " [ 4.42151688e-04 -3.09146169e-03 -9.30850551e-03  1.18857834e-03\n",
      "  -1.91411460e-02]\n",
      " [ 1.14427312e-04 -3.40927439e-03 -9.60941182e-03  8.99780146e-04\n",
      "  -1.94540696e-02]\n",
      " [-1.45491995e-04 -3.66133877e-03 -9.84806777e-03  6.70737067e-04\n",
      "  -1.97022467e-02]\n",
      " [-3.51601428e-04 -3.86122325e-03 -1.00373198e-02  4.89114054e-04\n",
      "  -1.98990425e-02]\n",
      " [-5.15019967e-04 -4.01970859e-03 -1.01873749e-02  3.45111605e-04\n",
      "  -2.00550751e-02]\n",
      " [-6.44576849e-04 -4.14535598e-03 -1.03063390e-02  2.30948569e-04\n",
      "  -2.01787754e-02]\n",
      " [-7.47280183e-04 -4.24496109e-03 -1.04006460e-02  1.40448947e-04\n",
      "  -2.02768356e-02]\n",
      " [-8.28690748e-04 -4.32391637e-03 -1.04754017e-02  6.87123504e-05\n",
      "  -2.03545653e-02]\n",
      " [-8.93219748e-04 -4.38649958e-03 -1.05346561e-02  1.18515224e-05\n",
      "  -2.04161764e-02]\n",
      " [-9.44365742e-04 -4.43610358e-03 -1.05816217e-02 -3.32164969e-05\n",
      "  -2.04650096e-02]\n",
      " [-9.84903007e-04 -4.47541883e-03 -1.06188458e-02 -6.89363935e-05\n",
      "  -2.05037136e-02]\n",
      " [-1.01703120e-03 -4.50657860e-03 -1.06483482e-02 -9.72464779e-05\n",
      "  -2.05343888e-02]\n",
      " [-1.04249419e-03 -4.53127413e-03 -1.06717302e-02 -1.19683417e-04\n",
      "  -2.05587002e-02]\n",
      " [-1.06267440e-03 -4.55084614e-03 -1.06902612e-02 -1.37465364e-04\n",
      "  -2.05779678e-02]\n",
      " [-1.07866764e-03 -4.56635739e-03 -1.07049475e-02 -1.51557916e-04\n",
      "  -2.05932376e-02]\n",
      " [-1.09134249e-03 -4.57865028e-03 -1.07165865e-02 -1.62726439e-04\n",
      "  -2.06053392e-02]\n",
      " [-1.10138740e-03 -4.58839248e-03 -1.07258105e-02 -1.71577564e-04\n",
      "  -2.06149298e-02]\n",
      " [-1.10934801e-03 -4.59611320e-03 -1.07331206e-02 -1.78592094e-04\n",
      "  -2.06225304e-02]\n",
      " [-1.11565677e-03 -4.60223186e-03 -1.07389138e-02 -1.84151092e-04\n",
      "  -2.06285538e-02]\n",
      " [-1.12065644e-03 -4.60708087e-03 -1.07435049e-02 -1.88556568e-04\n",
      "  -2.06333273e-02]\n",
      " [-1.12461863e-03 -4.61092367e-03 -1.07471433e-02 -1.92047873e-04\n",
      "  -2.06371103e-02]\n",
      " [-1.12775863e-03 -4.61396906e-03 -1.07500267e-02 -1.94814698e-04\n",
      "  -2.06401083e-02]]\n"
     ]
    }
   ],
   "source": [
    "print(train_scores,test_scores)"
   ]
  },
  {
   "cell_type": "code",
   "execution_count": 97,
   "id": "100655f2",
   "metadata": {},
   "outputs": [],
   "source": [
    "train_mean = np.mean(train_scores,axis=1)"
   ]
  },
  {
   "cell_type": "code",
   "execution_count": 98,
   "id": "1ad77707",
   "metadata": {},
   "outputs": [],
   "source": [
    "test_mean  = np.mean(test_scores,axis=1) "
   ]
  },
  {
   "cell_type": "code",
   "execution_count": 99,
   "id": "0d2e9e4e",
   "metadata": {},
   "outputs": [
    {
     "data": {
      "text/plain": [
       "0.5335841980711626"
      ]
     },
     "execution_count": 99,
     "metadata": {},
     "output_type": "execute_result"
    }
   ],
   "source": [
    "max(train_mean)"
   ]
  },
  {
   "cell_type": "code",
   "execution_count": 100,
   "id": "eb918909",
   "metadata": {},
   "outputs": [
    {
     "data": {
      "text/plain": [
       "0.5258291929838951"
      ]
     },
     "execution_count": 100,
     "metadata": {},
     "output_type": "execute_result"
    }
   ],
   "source": [
    "max(test_mean) "
   ]
  },
  {
   "cell_type": "markdown",
   "id": "93cfde56",
   "metadata": {},
   "source": [
    "# other way to see r2 value"
   ]
  },
  {
   "cell_type": "code",
   "execution_count": 101,
   "id": "8eb787ef",
   "metadata": {},
   "outputs": [
    {
     "data": {
      "text/plain": [
       "<seaborn.axisgrid.JointGrid at 0x1c75a8a01f0>"
      ]
     },
     "execution_count": 101,
     "metadata": {},
     "output_type": "execute_result"
    },
    {
     "data": {
      "image/png": "[encoded data removed]",
      "text/plain": [
       "<Figure size 600x600 with 3 Axes>"
      ]
     },
     "metadata": {},
     "output_type": "display_data"
    }
   ],
   "source": [
    "sns.jointplot(x=np.log(param_range), y=test_mean)"
   ]
  },
  {
   "cell_type": "code",
   "execution_count": 102,
   "id": "84f75b3e",
   "metadata": {},
   "outputs": [
    {
     "data": {
      "text/plain": [
       "(array([26], dtype=int64),)"
      ]
     },
     "execution_count": 102,
     "metadata": {},
     "output_type": "execute_result"
    }
   ],
   "source": [
    "# To find location of test_mean\n",
    "\n",
    "np.where(test_mean == max(test_mean))"
   ]
  },
  {
   "cell_type": "code",
   "execution_count": 103,
   "id": "fc491133",
   "metadata": {},
   "outputs": [
    {
     "data": {
      "text/plain": [
       "4.229242874389499"
      ]
     },
     "execution_count": 103,
     "metadata": {},
     "output_type": "execute_result"
    }
   ],
   "source": [
    "param_range[26]"
   ]
  },
  {
   "cell_type": "code",
   "execution_count": 104,
   "id": "97e14ae5",
   "metadata": {},
   "outputs": [],
   "source": [
    "lm_r_best = Ridge(alpha = param_range[26])"
   ]
  },
  {
   "cell_type": "code",
   "execution_count": 105,
   "id": "de82fc18",
   "metadata": {},
   "outputs": [
    {
     "data": {
      "text/plain": [
       "Ridge(alpha=4.229242874389499)"
      ]
     },
     "execution_count": 105,
     "metadata": {},
     "output_type": "execute_result"
    }
   ],
   "source": [
    "lm_r_best.fit(X_train_s,y_train) "
   ]
  },
  {
   "cell_type": "code",
   "execution_count": 106,
   "id": "19f34427",
   "metadata": {},
   "outputs": [
    {
     "data": {
      "text/plain": [
       "0.535475412672408"
      ]
     },
     "execution_count": 106,
     "metadata": {},
     "output_type": "execute_result"
    }
   ],
   "source": [
    "r2_score(y_test, lm_r_best.predict(X_test_s))"
   ]
  },
  {
   "cell_type": "code",
   "execution_count": 107,
   "id": "9a0c060f",
   "metadata": {},
   "outputs": [
    {
     "data": {
      "text/plain": [
       "0.5331238227310131"
      ]
     },
     "execution_count": 107,
     "metadata": {},
     "output_type": "execute_result"
    }
   ],
   "source": [
    "r2_score(y_train, lm_r_best.predict(X_train_s)) "
   ]
  },
  {
   "cell_type": "markdown",
   "id": "3e34c2e6",
   "metadata": {},
   "source": [
    "# Checking Lasso model performance"
   ]
  },
  {
   "cell_type": "code",
   "execution_count": 108,
   "id": "db9c6a0b",
   "metadata": {},
   "outputs": [],
   "source": [
    "from sklearn.linear_model import Lasso"
   ]
  },
  {
   "cell_type": "code",
   "execution_count": 109,
   "id": "27a15d86",
   "metadata": {},
   "outputs": [],
   "source": [
    "lm_l = Lasso(alpha = 0.4)"
   ]
  },
  {
   "cell_type": "code",
   "execution_count": 110,
   "id": "916fc9dc",
   "metadata": {},
   "outputs": [
    {
     "data": {
      "text/plain": [
       "Lasso(alpha=0.4)"
      ]
     },
     "execution_count": 110,
     "metadata": {},
     "output_type": "execute_result"
    }
   ],
   "source": [
    "lm_l.fit(X_train_s,y_train)"
   ]
  },
  {
   "cell_type": "code",
   "execution_count": 111,
   "id": "e7289a8b",
   "metadata": {},
   "outputs": [
    {
     "data": {
      "text/plain": [
       "0.5356042489636199"
      ]
     },
     "execution_count": 111,
     "metadata": {},
     "output_type": "execute_result"
    }
   ],
   "source": [
    "r2_score(y_test, lm_l.predict(X_test_s))"
   ]
  },
  {
   "cell_type": "code",
   "execution_count": 112,
   "id": "d8aebce3",
   "metadata": {},
   "outputs": [],
   "source": [
    "# To improve model performance\n",
    "\n",
    "train_scores, test_scores = validation_curve(Lasso(), X_train_s, y_train, param_name=\"alpha\", param_range=param_range, scoring='r2')"
   ]
  },
  {
   "cell_type": "code",
   "execution_count": 113,
   "id": "3a0921f5",
   "metadata": {},
   "outputs": [
    {
     "name": "stdout",
     "output_type": "stream",
     "text": [
      "[[0.52633621 0.53339531 0.53973999 0.53799345 0.53045603]\n",
      " [0.52633621 0.53339531 0.53973999 0.53799345 0.53045603]\n",
      " [0.52633621 0.53339531 0.53973999 0.53799345 0.53045603]\n",
      " [0.52633621 0.53339531 0.53973999 0.53799345 0.53045603]\n",
      " [0.52633621 0.53339531 0.53973999 0.53799345 0.53045603]\n",
      " [0.52633621 0.53339531 0.53973999 0.53799345 0.53045603]\n",
      " [0.52633621 0.53339531 0.53973999 0.53799345 0.53045603]\n",
      " [0.52633621 0.53339531 0.53973999 0.53799345 0.53045603]\n",
      " [0.52633621 0.53339531 0.53973999 0.53799345 0.53045603]\n",
      " [0.5263362  0.53339531 0.53973999 0.53799345 0.53045603]\n",
      " [0.5263362  0.53339531 0.53973999 0.53799345 0.53045603]\n",
      " [0.5263362  0.53339531 0.53973999 0.53799345 0.53045603]\n",
      " [0.5263362  0.53339531 0.53973999 0.53799345 0.53045603]\n",
      " [0.5263362  0.53339531 0.53973999 0.53799345 0.53045603]\n",
      " [0.5263362  0.53339531 0.53973999 0.53799345 0.53045603]\n",
      " [0.5263362  0.53339531 0.53973998 0.53799345 0.53045603]\n",
      " [0.5263362  0.53339531 0.53973998 0.53799344 0.53045602]\n",
      " [0.52633619 0.5333953  0.53973998 0.53799344 0.53045602]\n",
      " [0.52633619 0.5333953  0.53973997 0.53799343 0.53045601]\n",
      " [0.52633618 0.53339529 0.53973996 0.53799342 0.530456  ]\n",
      " [0.52633616 0.53339527 0.53973994 0.5379934  0.53045598]\n",
      " [0.52633613 0.53339524 0.53973992 0.53799338 0.53045596]\n",
      " [0.52633609 0.5333952  0.53973987 0.53799333 0.53045591]\n",
      " [0.52633602 0.53339513 0.5397398  0.53799326 0.53045584]\n",
      " [0.52633591 0.53339503 0.53973969 0.53799314 0.53045573]\n",
      " [0.52633574 0.53339486 0.53973952 0.53799296 0.53045555]\n",
      " [0.52633546 0.53339459 0.53973924 0.53799267 0.53045526]\n",
      " [0.52633502 0.53339416 0.5397388  0.53799221 0.53045481]\n",
      " [0.52633431 0.53339348 0.53973809 0.53799148 0.53045409]\n",
      " [0.52633319 0.53339239 0.53973697 0.53799031 0.53045293]\n",
      " [0.52633141 0.53339066 0.53973518 0.53798844 0.5304511 ]\n",
      " [0.52632857 0.53338791 0.53973233 0.53798548 0.53044818]\n",
      " [0.52632405 0.53338352 0.53972779 0.53798076 0.53044352]\n",
      " [0.52631783 0.53337653 0.53972057 0.53797324 0.53043612]\n",
      " [0.52630827 0.53336541 0.53970907 0.53796126 0.53042432]\n",
      " [0.52629306 0.5333477  0.53969076 0.53794443 0.53040554]\n",
      " [0.52626882 0.53331949 0.5396616  0.53791781 0.53037563]\n",
      " [0.52623024 0.53327458 0.53961517 0.53787541 0.53032801]\n",
      " [0.5261688  0.53320308 0.53954238 0.53780791 0.53025219]\n",
      " [0.52607098 0.53308922 0.53944733 0.53770042 0.53013146]\n",
      " [0.52591521 0.53290792 0.53929599 0.53752927 0.52996047]\n",
      " [0.52566719 0.53261925 0.53908106 0.53725675 0.52973881]\n",
      " [0.52527226 0.53216182 0.53875172 0.53682281 0.52943027]\n",
      " [0.52465057 0.53151309 0.53822733 0.5362352  0.52899005]\n",
      " [0.52377845 0.53048013 0.53739235 0.53533555 0.52844079]\n",
      " [0.52238979 0.529348   0.53606282 0.53410395 0.52764135]\n",
      " [0.52017864 0.52767967 0.53448217 0.532282   0.52636842]\n",
      " [0.51671676 0.52504869 0.53259776 0.52961123 0.52434155]\n",
      " [0.51323644 0.52203535 0.52959725 0.52629662 0.5211142 ]\n",
      " [0.50817228 0.51723727 0.52481958 0.52101881 0.51597535]\n",
      " [0.5001087  0.50959736 0.51721218 0.51261503 0.50779285]\n",
      " [0.48726921 0.49743246 0.50509905 0.49923384 0.49476421]\n",
      " [0.46682511 0.47806249 0.48581152 0.47792718 0.47401861]\n",
      " [0.43427231 0.44722001 0.45510032 0.44400095 0.44098572]\n",
      " [0.38243905 0.39811004 0.40619986 0.38998077 0.38838799]\n",
      " [0.30814552 0.32169701 0.32833565 0.31385724 0.31568531]\n",
      " [0.25013865 0.26080544 0.26330897 0.23592383 0.24152658]\n",
      " [0.17610658 0.18853256 0.19064203 0.15569873 0.16113442]\n",
      " [0.0582266  0.07345368 0.07493572 0.02795768 0.03312737]\n",
      " [0.         0.         0.         0.         0.        ]\n",
      " [0.         0.         0.         0.         0.        ]\n",
      " [0.         0.         0.         0.         0.        ]\n",
      " [0.         0.         0.         0.         0.        ]\n",
      " [0.         0.         0.         0.         0.        ]\n",
      " [0.         0.         0.         0.         0.        ]\n",
      " [0.         0.         0.         0.         0.        ]\n",
      " [0.         0.         0.         0.         0.        ]\n",
      " [0.         0.         0.         0.         0.        ]\n",
      " [0.         0.         0.         0.         0.        ]\n",
      " [0.         0.         0.         0.         0.        ]\n",
      " [0.         0.         0.         0.         0.        ]\n",
      " [0.         0.         0.         0.         0.        ]\n",
      " [0.         0.         0.         0.         0.        ]\n",
      " [0.         0.         0.         0.         0.        ]\n",
      " [0.         0.         0.         0.         0.        ]\n",
      " [0.         0.         0.         0.         0.        ]\n",
      " [0.         0.         0.         0.         0.        ]\n",
      " [0.         0.         0.         0.         0.        ]\n",
      " [0.         0.         0.         0.         0.        ]\n",
      " [0.         0.         0.         0.         0.        ]\n",
      " [0.         0.         0.         0.         0.        ]\n",
      " [0.         0.         0.         0.         0.        ]\n",
      " [0.         0.         0.         0.         0.        ]\n",
      " [0.         0.         0.         0.         0.        ]\n",
      " [0.         0.         0.         0.         0.        ]\n",
      " [0.         0.         0.         0.         0.        ]\n",
      " [0.         0.         0.         0.         0.        ]\n",
      " [0.         0.         0.         0.         0.        ]\n",
      " [0.         0.         0.         0.         0.        ]\n",
      " [0.         0.         0.         0.         0.        ]\n",
      " [0.         0.         0.         0.         0.        ]\n",
      " [0.         0.         0.         0.         0.        ]\n",
      " [0.         0.         0.         0.         0.        ]\n",
      " [0.         0.         0.         0.         0.        ]\n",
      " [0.         0.         0.         0.         0.        ]\n",
      " [0.         0.         0.         0.         0.        ]\n",
      " [0.         0.         0.         0.         0.        ]\n",
      " [0.         0.         0.         0.         0.        ]\n",
      " [0.         0.         0.         0.         0.        ]\n",
      " [0.         0.         0.         0.         0.        ]] [[ 5.56151139e-01  5.28022166e-01  4.98881398e-01  5.14523813e-01\n",
      "   5.31514041e-01]\n",
      " [ 5.56151196e-01  5.28022210e-01  4.98881376e-01  5.14523817e-01\n",
      "   5.31513970e-01]\n",
      " [ 5.56151266e-01  5.28022266e-01  4.98881348e-01  5.14523823e-01\n",
      "   5.31513879e-01]\n",
      " [ 5.56151356e-01  5.28022337e-01  4.98881313e-01  5.14523830e-01\n",
      "   5.31513765e-01]\n",
      " [ 5.56151468e-01  5.28022426e-01  4.98881268e-01  5.14523839e-01\n",
      "   5.31513620e-01]\n",
      " [ 5.56151610e-01  5.28022538e-01  4.98881212e-01  5.14523851e-01\n",
      "   5.31513441e-01]\n",
      " [ 5.56151790e-01  5.28022688e-01  4.98881142e-01  5.14523865e-01\n",
      "   5.31513212e-01]\n",
      " [ 5.56152016e-01  5.28022867e-01  4.98881052e-01  5.14523884e-01\n",
      "   5.31512922e-01]\n",
      " [ 5.56152301e-01  5.28023092e-01  4.98880915e-01  5.14523907e-01\n",
      "   5.31512556e-01]\n",
      " [ 5.56152642e-01  5.28023377e-01  4.98880773e-01  5.14523936e-01\n",
      "   5.31512094e-01]\n",
      " [ 5.56153097e-01  5.28023736e-01  4.98880594e-01  5.14523973e-01\n",
      "   5.31511512e-01]\n",
      " [ 5.56153670e-01  5.28024190e-01  4.98880367e-01  5.14524041e-01\n",
      "   5.31510776e-01]\n",
      " [ 5.56154394e-01  5.28024762e-01  4.98880081e-01  5.14524100e-01\n",
      "   5.31509849e-01]\n",
      " [ 5.56155307e-01  5.28025483e-01  4.98879720e-01  5.14524173e-01\n",
      "   5.31508678e-01]\n",
      " [ 5.56156458e-01  5.28026393e-01  4.98879264e-01  5.14524266e-01\n",
      "   5.31507200e-01]\n",
      " [ 5.56157912e-01  5.28027542e-01  4.98878688e-01  5.14524383e-01\n",
      "   5.31505335e-01]\n",
      " [ 5.56159744e-01  5.28028990e-01  4.98877961e-01  5.14524530e-01\n",
      "   5.31502981e-01]\n",
      " [ 5.56162056e-01  5.28030817e-01  4.98877042e-01  5.14524715e-01\n",
      "   5.31500010e-01]\n",
      " [ 5.56164972e-01  5.28033120e-01  4.98875882e-01  5.14524946e-01\n",
      "   5.31496259e-01]\n",
      " [ 5.56168649e-01  5.28036025e-01  4.98874415e-01  5.14525237e-01\n",
      "   5.31491524e-01]\n",
      " [ 5.56173286e-01  5.28039686e-01  4.98872559e-01  5.14525600e-01\n",
      "   5.31485546e-01]\n",
      " [ 5.56179130e-01  5.28044301e-01  4.98870211e-01  5.14526054e-01\n",
      "   5.31477996e-01]\n",
      " [ 5.56186495e-01  5.28050114e-01  4.98867238e-01  5.14526618e-01\n",
      "   5.31468461e-01]\n",
      " [ 5.56195773e-01  5.28057436e-01  4.98863470e-01  5.14527317e-01\n",
      "   5.31456414e-01]\n",
      " [ 5.56207456e-01  5.28066651e-01  4.98858689e-01  5.14528179e-01\n",
      "   5.31441189e-01]\n",
      " [ 5.56222161e-01  5.28078241e-01  4.98852614e-01  5.14529234e-01\n",
      "   5.31421941e-01]\n",
      " [ 5.56240654e-01  5.28092808e-01  4.98844881e-01  5.14530514e-01\n",
      "   5.31397594e-01]\n",
      " [ 5.56263893e-01  5.28111094e-01  4.98835016e-01  5.14532047e-01\n",
      "   5.31366778e-01]\n",
      " [ 5.56293060e-01  5.28134019e-01  4.98822400e-01  5.14533850e-01\n",
      "   5.31327746e-01]\n",
      " [ 5.56329617e-01  5.28162707e-01  4.98806210e-01  5.14535917e-01\n",
      "   5.31278256e-01]\n",
      " [ 5.56375352e-01  5.28198526e-01  4.98785350e-01  5.14538193e-01\n",
      "   5.31215432e-01]\n",
      " [ 5.56432431e-01  5.28243117e-01  4.98758345e-01  5.14540536e-01\n",
      "   5.31135558e-01]\n",
      " [ 5.56503456e-01  5.28298418e-01  4.98723178e-01  5.14542652e-01\n",
      "   5.31033817e-01]\n",
      " [ 5.56623131e-01  5.28366662e-01  4.98677069e-01  5.14543981e-01\n",
      "   5.30903918e-01]\n",
      " [ 5.56781858e-01  5.28450325e-01  4.98616125e-01  5.14543525e-01\n",
      "   5.30737590e-01]\n",
      " [ 5.56978620e-01  5.28551995e-01  4.98534825e-01  5.14570232e-01\n",
      "   5.30523864e-01]\n",
      " [ 5.57221287e-01  5.28674075e-01  4.98425234e-01  5.14601448e-01\n",
      "   5.30248051e-01]\n",
      " [ 5.57518549e-01  5.28818230e-01  4.98275799e-01  5.14633673e-01\n",
      "   5.29890267e-01]\n",
      " [ 5.57879406e-01  5.28984382e-01  4.98076885e-01  5.14662926e-01\n",
      "   5.29423276e-01]\n",
      " [ 5.58312071e-01  5.29168962e-01  4.97922726e-01  5.14681670e-01\n",
      "   5.28809289e-01]\n",
      " [ 5.58821911e-01  5.29361940e-01  4.97695796e-01  5.14676395e-01\n",
      "   5.28058942e-01]\n",
      " [ 5.59407743e-01  5.29541864e-01  4.97391036e-01  5.14623675e-01\n",
      "   5.27146358e-01]\n",
      " [ 5.60055401e-01  5.29666842e-01  4.96949984e-01  5.14483804e-01\n",
      "   5.26155550e-01]\n",
      " [ 5.60718288e-01  5.29647811e-01  4.96282396e-01  5.14181647e-01\n",
      "   5.25092667e-01]\n",
      " [ 5.61208548e-01  5.29395180e-01  4.95263185e-01  5.13628755e-01\n",
      "   5.24373477e-01]\n",
      " [ 5.61486345e-01  5.28801386e-01  4.93695551e-01  5.12934441e-01\n",
      "   5.23631111e-01]\n",
      " [ 5.61294161e-01  5.27561892e-01  4.92094265e-01  5.11869840e-01\n",
      "   5.22429213e-01]\n",
      " [ 5.60134108e-01  5.25420919e-01  4.90126735e-01  5.10041566e-01\n",
      "   5.20490416e-01]\n",
      " [ 5.56494827e-01  5.22086648e-01  4.87068324e-01  5.07242962e-01\n",
      "   5.17371710e-01]\n",
      " [ 5.50577995e-01  5.16846818e-01  4.82292418e-01  5.02695379e-01\n",
      "   5.12365983e-01]\n",
      " [ 5.41167580e-01  5.08590939e-01  4.74806379e-01  4.95338987e-01\n",
      "   5.04345145e-01]\n",
      " [ 5.26197238e-01  4.95555544e-01  4.63036081e-01  4.83479971e-01\n",
      "   4.91510580e-01]\n",
      " [ 5.02377505e-01  4.74938693e-01  4.44483208e-01  4.64413389e-01\n",
      "   4.70993687e-01]\n",
      " [ 4.64471566e-01  4.42286465e-01  4.15179985e-01  4.33822228e-01\n",
      "   4.38223899e-01]\n",
      " [ 4.04142116e-01  3.90516505e-01  3.68821856e-01  3.84819986e-01\n",
      "   3.85917563e-01]\n",
      " [ 3.17661089e-01  3.09997168e-01  2.95385320e-01  3.16144051e-01\n",
      "   3.15504596e-01]\n",
      " [ 2.54502282e-01  2.47873006e-01  2.32744453e-01  2.43039308e-01\n",
      "   2.42279039e-01]\n",
      " [ 1.78156532e-01  1.78563918e-01  1.65947836e-01  1.59111537e-01\n",
      "   1.55860997e-01]\n",
      " [ 5.79066295e-02  6.70144877e-02  5.88635195e-02  2.81772189e-02\n",
      "   1.58705556e-02]\n",
      " [-1.13975016e-03 -4.62559926e-03 -1.07610384e-02 -2.05381078e-04\n",
      "  -2.06515574e-02]\n",
      " [-1.13975016e-03 -4.62559926e-03 -1.07610384e-02 -2.05381078e-04\n",
      "  -2.06515574e-02]\n",
      " [-1.13975016e-03 -4.62559926e-03 -1.07610384e-02 -2.05381078e-04\n",
      "  -2.06515574e-02]\n",
      " [-1.13975016e-03 -4.62559926e-03 -1.07610384e-02 -2.05381078e-04\n",
      "  -2.06515574e-02]\n",
      " [-1.13975016e-03 -4.62559926e-03 -1.07610384e-02 -2.05381078e-04\n",
      "  -2.06515574e-02]\n",
      " [-1.13975016e-03 -4.62559926e-03 -1.07610384e-02 -2.05381078e-04\n",
      "  -2.06515574e-02]\n",
      " [-1.13975016e-03 -4.62559926e-03 -1.07610384e-02 -2.05381078e-04\n",
      "  -2.06515574e-02]\n",
      " [-1.13975016e-03 -4.62559926e-03 -1.07610384e-02 -2.05381078e-04\n",
      "  -2.06515574e-02]\n",
      " [-1.13975016e-03 -4.62559926e-03 -1.07610384e-02 -2.05381078e-04\n",
      "  -2.06515574e-02]\n",
      " [-1.13975016e-03 -4.62559926e-03 -1.07610384e-02 -2.05381078e-04\n",
      "  -2.06515574e-02]\n",
      " [-1.13975016e-03 -4.62559926e-03 -1.07610384e-02 -2.05381078e-04\n",
      "  -2.06515574e-02]\n",
      " [-1.13975016e-03 -4.62559926e-03 -1.07610384e-02 -2.05381078e-04\n",
      "  -2.06515574e-02]\n",
      " [-1.13975016e-03 -4.62559926e-03 -1.07610384e-02 -2.05381078e-04\n",
      "  -2.06515574e-02]\n",
      " [-1.13975016e-03 -4.62559926e-03 -1.07610384e-02 -2.05381078e-04\n",
      "  -2.06515574e-02]\n",
      " [-1.13975016e-03 -4.62559926e-03 -1.07610384e-02 -2.05381078e-04\n",
      "  -2.06515574e-02]\n",
      " [-1.13975016e-03 -4.62559926e-03 -1.07610384e-02 -2.05381078e-04\n",
      "  -2.06515574e-02]\n",
      " [-1.13975016e-03 -4.62559926e-03 -1.07610384e-02 -2.05381078e-04\n",
      "  -2.06515574e-02]\n",
      " [-1.13975016e-03 -4.62559926e-03 -1.07610384e-02 -2.05381078e-04\n",
      "  -2.06515574e-02]\n",
      " [-1.13975016e-03 -4.62559926e-03 -1.07610384e-02 -2.05381078e-04\n",
      "  -2.06515574e-02]\n",
      " [-1.13975016e-03 -4.62559926e-03 -1.07610384e-02 -2.05381078e-04\n",
      "  -2.06515574e-02]\n",
      " [-1.13975016e-03 -4.62559926e-03 -1.07610384e-02 -2.05381078e-04\n",
      "  -2.06515574e-02]\n",
      " [-1.13975016e-03 -4.62559926e-03 -1.07610384e-02 -2.05381078e-04\n",
      "  -2.06515574e-02]\n",
      " [-1.13975016e-03 -4.62559926e-03 -1.07610384e-02 -2.05381078e-04\n",
      "  -2.06515574e-02]\n",
      " [-1.13975016e-03 -4.62559926e-03 -1.07610384e-02 -2.05381078e-04\n",
      "  -2.06515574e-02]\n",
      " [-1.13975016e-03 -4.62559926e-03 -1.07610384e-02 -2.05381078e-04\n",
      "  -2.06515574e-02]\n",
      " [-1.13975016e-03 -4.62559926e-03 -1.07610384e-02 -2.05381078e-04\n",
      "  -2.06515574e-02]\n",
      " [-1.13975016e-03 -4.62559926e-03 -1.07610384e-02 -2.05381078e-04\n",
      "  -2.06515574e-02]\n",
      " [-1.13975016e-03 -4.62559926e-03 -1.07610384e-02 -2.05381078e-04\n",
      "  -2.06515574e-02]\n",
      " [-1.13975016e-03 -4.62559926e-03 -1.07610384e-02 -2.05381078e-04\n",
      "  -2.06515574e-02]\n",
      " [-1.13975016e-03 -4.62559926e-03 -1.07610384e-02 -2.05381078e-04\n",
      "  -2.06515574e-02]\n",
      " [-1.13975016e-03 -4.62559926e-03 -1.07610384e-02 -2.05381078e-04\n",
      "  -2.06515574e-02]\n",
      " [-1.13975016e-03 -4.62559926e-03 -1.07610384e-02 -2.05381078e-04\n",
      "  -2.06515574e-02]\n",
      " [-1.13975016e-03 -4.62559926e-03 -1.07610384e-02 -2.05381078e-04\n",
      "  -2.06515574e-02]\n",
      " [-1.13975016e-03 -4.62559926e-03 -1.07610384e-02 -2.05381078e-04\n",
      "  -2.06515574e-02]\n",
      " [-1.13975016e-03 -4.62559926e-03 -1.07610384e-02 -2.05381078e-04\n",
      "  -2.06515574e-02]\n",
      " [-1.13975016e-03 -4.62559926e-03 -1.07610384e-02 -2.05381078e-04\n",
      "  -2.06515574e-02]\n",
      " [-1.13975016e-03 -4.62559926e-03 -1.07610384e-02 -2.05381078e-04\n",
      "  -2.06515574e-02]\n",
      " [-1.13975016e-03 -4.62559926e-03 -1.07610384e-02 -2.05381078e-04\n",
      "  -2.06515574e-02]\n",
      " [-1.13975016e-03 -4.62559926e-03 -1.07610384e-02 -2.05381078e-04\n",
      "  -2.06515574e-02]\n",
      " [-1.13975016e-03 -4.62559926e-03 -1.07610384e-02 -2.05381078e-04\n",
      "  -2.06515574e-02]\n",
      " [-1.13975016e-03 -4.62559926e-03 -1.07610384e-02 -2.05381078e-04\n",
      "  -2.06515574e-02]]\n"
     ]
    }
   ],
   "source": [
    "print(train_scores,test_scores)"
   ]
  },
  {
   "cell_type": "code",
   "execution_count": 114,
   "id": "47561d36",
   "metadata": {},
   "outputs": [],
   "source": [
    "train_scores_mean = np.mean(train_scores, axis=1)\n",
    "test_scores_mean = np.mean(test_scores, axis=1)"
   ]
  },
  {
   "cell_type": "code",
   "execution_count": 115,
   "id": "0d339df8",
   "metadata": {},
   "outputs": [
    {
     "name": "stdout",
     "output_type": "stream",
     "text": [
      "[0.5335842  0.5335842  0.5335842  0.5335842  0.5335842  0.5335842\n",
      " 0.5335842  0.5335842  0.5335842  0.5335842  0.5335842  0.5335842\n",
      " 0.5335842  0.5335842  0.5335842  0.53358419 0.53358419 0.53358419\n",
      " 0.53358418 0.53358417 0.53358415 0.53358412 0.53358408 0.53358401\n",
      " 0.5335839  0.53358373 0.53358345 0.533583   0.53358229 0.53358116\n",
      " 0.53357936 0.53357649 0.53357193 0.53356486 0.53355367 0.5335363\n",
      " 0.53350867 0.53346468 0.53339487 0.53328788 0.53312177 0.53287261\n",
      " 0.53248778 0.53192325 0.53108545 0.52990918 0.52819818 0.5256632\n",
      " 0.52245597 0.51744466 0.50946523 0.49675975 0.47652898 0.44431586\n",
      " 0.39302354 0.31754415 0.25034069 0.17442286 0.05354021 0.\n",
      " 0.         0.         0.         0.         0.         0.\n",
      " 0.         0.         0.         0.         0.         0.\n",
      " 0.         0.         0.         0.         0.         0.\n",
      " 0.         0.         0.         0.         0.         0.\n",
      " 0.         0.         0.         0.         0.         0.\n",
      " 0.         0.         0.         0.         0.         0.\n",
      " 0.         0.         0.         0.        ] [ 0.52581851  0.52581851  0.52581852  0.52581852  0.52581852  0.52581853\n",
      "  0.52581854  0.52581855  0.52581855  0.52581856  0.52581858  0.52581861\n",
      "  0.52581864  0.52581867  0.52581872  0.52581877  0.52581884  0.52581893\n",
      "  0.52581904  0.52581917  0.52581934  0.52581954  0.52581979  0.52582008\n",
      "  0.52582043  0.52582084  0.52582129  0.52582177  0.52582221  0.52582254\n",
      "  0.52582257  0.525822    0.5258203   0.52582295  0.52582588  0.52583191\n",
      "  0.52583402  0.5258273   0.52580537  0.52577894  0.525723    0.52562213\n",
      "  0.52546232  0.52518456  0.52477383  0.52410977  0.52304987  0.52124275\n",
      "  0.51805289  0.51295572  0.50484981  0.49195588  0.4714413   0.43879683\n",
      "  0.38684361  0.31093844  0.24408762  0.16752816  0.04556648 -0.00747667\n",
      " -0.00747667 -0.00747667 -0.00747667 -0.00747667 -0.00747667 -0.00747667\n",
      " -0.00747667 -0.00747667 -0.00747667 -0.00747667 -0.00747667 -0.00747667\n",
      " -0.00747667 -0.00747667 -0.00747667 -0.00747667 -0.00747667 -0.00747667\n",
      " -0.00747667 -0.00747667 -0.00747667 -0.00747667 -0.00747667 -0.00747667\n",
      " -0.00747667 -0.00747667 -0.00747667 -0.00747667 -0.00747667 -0.00747667\n",
      " -0.00747667 -0.00747667 -0.00747667 -0.00747667 -0.00747667 -0.00747667\n",
      " -0.00747667 -0.00747667 -0.00747667 -0.00747667]\n"
     ]
    }
   ],
   "source": [
    "print(train_scores_mean, test_scores_mean )"
   ]
  },
  {
   "cell_type": "code",
   "execution_count": 116,
   "id": "e5c96eb1",
   "metadata": {},
   "outputs": [
    {
     "data": {
      "text/plain": [
       "<seaborn.axisgrid.JointGrid at 0x1c75a90dca0>"
      ]
     },
     "execution_count": 116,
     "metadata": {},
     "output_type": "execute_result"
    },
    {
     "data": {
      "image/png": "[encoded data removed]",
      "text/plain": [
       "<Figure size 600x600 with 3 Axes>"
      ]
     },
     "metadata": {},
     "output_type": "display_data"
    }
   ],
   "source": [
    "sns.jointplot(x=np.log(param_range), y=test_scores_mean)"
   ]
  },
  {
   "cell_type": "code",
   "execution_count": 117,
   "id": "179c6b97",
   "metadata": {},
   "outputs": [
    {
     "data": {
      "text/plain": [
       "(array([], dtype=int64),)"
      ]
     },
     "execution_count": 117,
     "metadata": {},
     "output_type": "execute_result"
    }
   ],
   "source": [
    "# To find location of test_mean\n",
    "\n",
    "np.where(test_mean == max(test_scores_mean))"
   ]
  },
  {
   "cell_type": "code",
   "execution_count": 118,
   "id": "83163622",
   "metadata": {},
   "outputs": [
    {
     "data": {
      "text/plain": [
       "43.28761281083057"
      ]
     },
     "execution_count": 118,
     "metadata": {},
     "output_type": "execute_result"
    }
   ],
   "source": [
    "param_range[36]"
   ]
  },
  {
   "cell_type": "code",
   "execution_count": 119,
   "id": "971fd723",
   "metadata": {},
   "outputs": [],
   "source": [
    "# At index 36 we getting best fit\n",
    "\n",
    "lm_l_best = Lasso(alpha = param_range[36])"
   ]
  },
  {
   "cell_type": "code",
   "execution_count": 120,
   "id": "19d16aa7",
   "metadata": {},
   "outputs": [
    {
     "data": {
      "text/plain": [
       "Lasso(alpha=43.28761281083057)"
      ]
     },
     "execution_count": 120,
     "metadata": {},
     "output_type": "execute_result"
    }
   ],
   "source": [
    "lm_l_best.fit(X_train_s,y_train) "
   ]
  },
  {
   "cell_type": "code",
   "execution_count": 121,
   "id": "515e2317",
   "metadata": {},
   "outputs": [
    {
     "data": {
      "text/plain": [
       "0.5360908337999819"
      ]
     },
     "execution_count": 121,
     "metadata": {},
     "output_type": "execute_result"
    }
   ],
   "source": [
    " r2_score(y_test, lm_l_best.predict(X_test_s))"
   ]
  },
  {
   "cell_type": "code",
   "execution_count": 122,
   "id": "c7306a8c",
   "metadata": {},
   "outputs": [
    {
     "data": {
      "text/plain": [
       "0.5330506384208464"
      ]
     },
     "execution_count": 122,
     "metadata": {},
     "output_type": "execute_result"
    }
   ],
   "source": [
    "r2_score(y_train, lm_l_best.predict(X_train_s))"
   ]
  },
  {
   "cell_type": "markdown",
   "id": "c1d7a4a6",
   "metadata": {},
   "source": [
    "# Linear Regression performance   :  0.5355\n",
    "# Ridge model performance             :  0.5360\n",
    "# Lasso model performance             :  0.5356"
   ]
  },
  {
   "cell_type": "markdown",
   "id": "6978a017",
   "metadata": {},
   "source": [
    "# Hence Ridge model is best here"
   ]
  },
  {
   "cell_type": "code",
   "execution_count": null,
   "id": "92d04abe",
   "metadata": {},
   "outputs": [],
   "source": []
  }
 ],
 "metadata": {
  "kernelspec": {
   "display_name": "Python 3 (ipykernel)",
   "language": "python",
   "name": "python3"
  },
  "language_info": {
   "codemirror_mode": {
    "name": "ipython",
    "version": 3
   },
   "file_extension": ".py",
   "mimetype": "text/x-python",
   "name": "python",
   "nbconvert_exporter": "python",
   "pygments_lexer": "ipython3",
   "version": "3.9.13"
  }
 },
 "nbformat": 4,
 "nbformat_minor": 5
}
